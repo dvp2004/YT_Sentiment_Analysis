{
 "cells": [
  {
   "cell_type": "markdown",
   "metadata": {},
   "source": [
    "# **YouTube Review Sentiment Analysis**"
   ]
  },
  {
   "cell_type": "markdown",
   "metadata": {},
   "source": [
    "**MAIN TOPIC:** AI CONTROVERSY\n",
    "**SUB-TOPICS:** Art, Music, Jobs, Programming, Cars"
   ]
  },
  {
   "cell_type": "markdown",
   "metadata": {},
   "source": [
    "## **Setup**"
   ]
  },
  {
   "cell_type": "markdown",
   "metadata": {},
   "source": [
    "### **Installing and Importing Libraries**"
   ]
  },
  {
   "cell_type": "code",
   "execution_count": 1,
   "metadata": {},
   "outputs": [
    {
     "name": "stdout",
     "output_type": "stream",
     "text": [
      "Requirement already satisfied: google-api-python-client in /Users/neilpatrao/anaconda3/envs/F20AA/lib/python3.12/site-packages (2.120.0)\n",
      "Requirement already satisfied: textblob in /Users/neilpatrao/anaconda3/envs/F20AA/lib/python3.12/site-packages (0.18.0.post0)\n",
      "Requirement already satisfied: nltk in /Users/neilpatrao/anaconda3/envs/F20AA/lib/python3.12/site-packages (3.8.1)\n",
      "Requirement already satisfied: pandas in /Users/neilpatrao/anaconda3/envs/F20AA/lib/python3.12/site-packages (2.2.1)\n",
      "Requirement already satisfied: matplotlib in /Users/neilpatrao/anaconda3/envs/F20AA/lib/python3.12/site-packages (3.8.3)\n",
      "Requirement already satisfied: transformers in /Users/neilpatrao/anaconda3/envs/F20AA/lib/python3.12/site-packages (4.38.2)\n",
      "Requirement already satisfied: python_dotenv in /Users/neilpatrao/anaconda3/envs/F20AA/lib/python3.12/site-packages (1.0.1)\n",
      "Requirement already satisfied: langdetect in /Users/neilpatrao/anaconda3/envs/F20AA/lib/python3.12/site-packages (1.0.9)\n",
      "Requirement already satisfied: spacy in /Users/neilpatrao/anaconda3/envs/F20AA/lib/python3.12/site-packages (3.7.4)\n",
      "Requirement already satisfied: scikit-learn in /Users/neilpatrao/anaconda3/envs/F20AA/lib/python3.12/site-packages (1.4.1.post1)\n",
      "Requirement already satisfied: gensim in /Users/neilpatrao/anaconda3/envs/F20AA/lib/python3.12/site-packages (4.3.2)\n",
      "Requirement already satisfied: vaderSentiment in /Users/neilpatrao/anaconda3/envs/F20AA/lib/python3.12/site-packages (3.3.2)\n",
      "Requirement already satisfied: httplib2<1.dev0,>=0.15.0 in /Users/neilpatrao/anaconda3/envs/F20AA/lib/python3.12/site-packages (from google-api-python-client) (0.22.0)\n",
      "Requirement already satisfied: google-auth<3.0.0.dev0,>=1.19.0 in /Users/neilpatrao/anaconda3/envs/F20AA/lib/python3.12/site-packages (from google-api-python-client) (2.28.1)\n",
      "Requirement already satisfied: google-auth-httplib2>=0.1.0 in /Users/neilpatrao/anaconda3/envs/F20AA/lib/python3.12/site-packages (from google-api-python-client) (0.2.0)\n",
      "Requirement already satisfied: google-api-core!=2.0.*,!=2.1.*,!=2.2.*,!=2.3.0,<3.0.0.dev0,>=1.31.5 in /Users/neilpatrao/anaconda3/envs/F20AA/lib/python3.12/site-packages (from google-api-python-client) (2.17.1)\n",
      "Requirement already satisfied: uritemplate<5,>=3.0.1 in /Users/neilpatrao/anaconda3/envs/F20AA/lib/python3.12/site-packages (from google-api-python-client) (4.1.1)\n",
      "Requirement already satisfied: click in /Users/neilpatrao/anaconda3/envs/F20AA/lib/python3.12/site-packages (from nltk) (8.1.7)\n",
      "Requirement already satisfied: joblib in /Users/neilpatrao/anaconda3/envs/F20AA/lib/python3.12/site-packages (from nltk) (1.3.2)\n",
      "Requirement already satisfied: regex>=2021.8.3 in /Users/neilpatrao/anaconda3/envs/F20AA/lib/python3.12/site-packages (from nltk) (2023.12.25)\n",
      "Requirement already satisfied: tqdm in /Users/neilpatrao/anaconda3/envs/F20AA/lib/python3.12/site-packages (from nltk) (4.66.2)\n",
      "Requirement already satisfied: numpy<2,>=1.26.0 in /Users/neilpatrao/anaconda3/envs/F20AA/lib/python3.12/site-packages (from pandas) (1.26.4)\n",
      "Requirement already satisfied: python-dateutil>=2.8.2 in /Users/neilpatrao/anaconda3/envs/F20AA/lib/python3.12/site-packages (from pandas) (2.9.0)\n",
      "Requirement already satisfied: pytz>=2020.1 in /Users/neilpatrao/anaconda3/envs/F20AA/lib/python3.12/site-packages (from pandas) (2024.1)\n",
      "Requirement already satisfied: tzdata>=2022.7 in /Users/neilpatrao/anaconda3/envs/F20AA/lib/python3.12/site-packages (from pandas) (2024.1)\n",
      "Requirement already satisfied: contourpy>=1.0.1 in /Users/neilpatrao/anaconda3/envs/F20AA/lib/python3.12/site-packages (from matplotlib) (1.2.0)\n",
      "Requirement already satisfied: cycler>=0.10 in /Users/neilpatrao/anaconda3/envs/F20AA/lib/python3.12/site-packages (from matplotlib) (0.12.1)\n",
      "Requirement already satisfied: fonttools>=4.22.0 in /Users/neilpatrao/anaconda3/envs/F20AA/lib/python3.12/site-packages (from matplotlib) (4.49.0)\n",
      "Requirement already satisfied: kiwisolver>=1.3.1 in /Users/neilpatrao/anaconda3/envs/F20AA/lib/python3.12/site-packages (from matplotlib) (1.4.5)\n",
      "Requirement already satisfied: packaging>=20.0 in /Users/neilpatrao/anaconda3/envs/F20AA/lib/python3.12/site-packages (from matplotlib) (23.2)\n",
      "Requirement already satisfied: pillow>=8 in /Users/neilpatrao/anaconda3/envs/F20AA/lib/python3.12/site-packages (from matplotlib) (10.2.0)\n",
      "Requirement already satisfied: pyparsing>=2.3.1 in /Users/neilpatrao/anaconda3/envs/F20AA/lib/python3.12/site-packages (from matplotlib) (3.1.1)\n",
      "Requirement already satisfied: filelock in /Users/neilpatrao/anaconda3/envs/F20AA/lib/python3.12/site-packages (from transformers) (3.13.1)\n",
      "Requirement already satisfied: huggingface-hub<1.0,>=0.19.3 in /Users/neilpatrao/anaconda3/envs/F20AA/lib/python3.12/site-packages (from transformers) (0.21.3)\n",
      "Requirement already satisfied: pyyaml>=5.1 in /Users/neilpatrao/anaconda3/envs/F20AA/lib/python3.12/site-packages (from transformers) (6.0.1)\n",
      "Requirement already satisfied: requests in /Users/neilpatrao/anaconda3/envs/F20AA/lib/python3.12/site-packages (from transformers) (2.31.0)\n",
      "Requirement already satisfied: tokenizers<0.19,>=0.14 in /Users/neilpatrao/anaconda3/envs/F20AA/lib/python3.12/site-packages (from transformers) (0.15.2)\n",
      "Requirement already satisfied: safetensors>=0.4.1 in /Users/neilpatrao/anaconda3/envs/F20AA/lib/python3.12/site-packages (from transformers) (0.4.2)\n",
      "Requirement already satisfied: six in /Users/neilpatrao/anaconda3/envs/F20AA/lib/python3.12/site-packages (from langdetect) (1.16.0)\n",
      "Requirement already satisfied: spacy-legacy<3.1.0,>=3.0.11 in /Users/neilpatrao/anaconda3/envs/F20AA/lib/python3.12/site-packages (from spacy) (3.0.12)\n",
      "Requirement already satisfied: spacy-loggers<2.0.0,>=1.0.0 in /Users/neilpatrao/anaconda3/envs/F20AA/lib/python3.12/site-packages (from spacy) (1.0.5)\n",
      "Requirement already satisfied: murmurhash<1.1.0,>=0.28.0 in /Users/neilpatrao/anaconda3/envs/F20AA/lib/python3.12/site-packages (from spacy) (1.0.10)\n",
      "Requirement already satisfied: cymem<2.1.0,>=2.0.2 in /Users/neilpatrao/anaconda3/envs/F20AA/lib/python3.12/site-packages (from spacy) (2.0.8)\n",
      "Requirement already satisfied: preshed<3.1.0,>=3.0.2 in /Users/neilpatrao/anaconda3/envs/F20AA/lib/python3.12/site-packages (from spacy) (3.0.9)\n",
      "Requirement already satisfied: thinc<8.3.0,>=8.2.2 in /Users/neilpatrao/anaconda3/envs/F20AA/lib/python3.12/site-packages (from spacy) (8.2.3)\n",
      "Requirement already satisfied: wasabi<1.2.0,>=0.9.1 in /Users/neilpatrao/anaconda3/envs/F20AA/lib/python3.12/site-packages (from spacy) (1.1.2)\n",
      "Requirement already satisfied: srsly<3.0.0,>=2.4.3 in /Users/neilpatrao/anaconda3/envs/F20AA/lib/python3.12/site-packages (from spacy) (2.4.8)\n",
      "Requirement already satisfied: catalogue<2.1.0,>=2.0.6 in /Users/neilpatrao/anaconda3/envs/F20AA/lib/python3.12/site-packages (from spacy) (2.0.10)\n",
      "Requirement already satisfied: weasel<0.4.0,>=0.1.0 in /Users/neilpatrao/anaconda3/envs/F20AA/lib/python3.12/site-packages (from spacy) (0.3.4)\n",
      "Requirement already satisfied: typer<0.10.0,>=0.3.0 in /Users/neilpatrao/anaconda3/envs/F20AA/lib/python3.12/site-packages (from spacy) (0.9.0)\n",
      "Requirement already satisfied: smart-open<7.0.0,>=5.2.1 in /Users/neilpatrao/anaconda3/envs/F20AA/lib/python3.12/site-packages (from spacy) (6.4.0)\n",
      "Requirement already satisfied: pydantic!=1.8,!=1.8.1,<3.0.0,>=1.7.4 in /Users/neilpatrao/anaconda3/envs/F20AA/lib/python3.12/site-packages (from spacy) (2.6.3)\n",
      "Requirement already satisfied: jinja2 in /Users/neilpatrao/anaconda3/envs/F20AA/lib/python3.12/site-packages (from spacy) (3.1.3)\n",
      "Requirement already satisfied: setuptools in /Users/neilpatrao/anaconda3/envs/F20AA/lib/python3.12/site-packages (from spacy) (69.1.1)\n",
      "Requirement already satisfied: langcodes<4.0.0,>=3.2.0 in /Users/neilpatrao/anaconda3/envs/F20AA/lib/python3.12/site-packages (from spacy) (3.3.0)\n",
      "Requirement already satisfied: scipy>=1.6.0 in /Users/neilpatrao/anaconda3/envs/F20AA/lib/python3.12/site-packages (from scikit-learn) (1.12.0)\n",
      "Requirement already satisfied: threadpoolctl>=2.0.0 in /Users/neilpatrao/anaconda3/envs/F20AA/lib/python3.12/site-packages (from scikit-learn) (3.3.0)\n",
      "Requirement already satisfied: googleapis-common-protos<2.0.dev0,>=1.56.2 in /Users/neilpatrao/anaconda3/envs/F20AA/lib/python3.12/site-packages (from google-api-core!=2.0.*,!=2.1.*,!=2.2.*,!=2.3.0,<3.0.0.dev0,>=1.31.5->google-api-python-client) (1.62.0)\n",
      "Requirement already satisfied: protobuf!=3.20.0,!=3.20.1,!=4.21.0,!=4.21.1,!=4.21.2,!=4.21.3,!=4.21.4,!=4.21.5,<5.0.0.dev0,>=3.19.5 in /Users/neilpatrao/anaconda3/envs/F20AA/lib/python3.12/site-packages (from google-api-core!=2.0.*,!=2.1.*,!=2.2.*,!=2.3.0,<3.0.0.dev0,>=1.31.5->google-api-python-client) (4.25.3)\n",
      "Requirement already satisfied: cachetools<6.0,>=2.0.0 in /Users/neilpatrao/anaconda3/envs/F20AA/lib/python3.12/site-packages (from google-auth<3.0.0.dev0,>=1.19.0->google-api-python-client) (5.3.3)\n",
      "Requirement already satisfied: pyasn1-modules>=0.2.1 in /Users/neilpatrao/anaconda3/envs/F20AA/lib/python3.12/site-packages (from google-auth<3.0.0.dev0,>=1.19.0->google-api-python-client) (0.3.0)\n",
      "Requirement already satisfied: rsa<5,>=3.1.4 in /Users/neilpatrao/anaconda3/envs/F20AA/lib/python3.12/site-packages (from google-auth<3.0.0.dev0,>=1.19.0->google-api-python-client) (4.9)\n",
      "Requirement already satisfied: fsspec>=2023.5.0 in /Users/neilpatrao/anaconda3/envs/F20AA/lib/python3.12/site-packages (from huggingface-hub<1.0,>=0.19.3->transformers) (2024.2.0)\n",
      "Requirement already satisfied: typing-extensions>=3.7.4.3 in /Users/neilpatrao/anaconda3/envs/F20AA/lib/python3.12/site-packages (from huggingface-hub<1.0,>=0.19.3->transformers) (4.10.0)\n",
      "Requirement already satisfied: annotated-types>=0.4.0 in /Users/neilpatrao/anaconda3/envs/F20AA/lib/python3.12/site-packages (from pydantic!=1.8,!=1.8.1,<3.0.0,>=1.7.4->spacy) (0.6.0)\n",
      "Requirement already satisfied: pydantic-core==2.16.3 in /Users/neilpatrao/anaconda3/envs/F20AA/lib/python3.12/site-packages (from pydantic!=1.8,!=1.8.1,<3.0.0,>=1.7.4->spacy) (2.16.3)\n",
      "Requirement already satisfied: charset-normalizer<4,>=2 in /Users/neilpatrao/anaconda3/envs/F20AA/lib/python3.12/site-packages (from requests->transformers) (3.3.2)\n",
      "Requirement already satisfied: idna<4,>=2.5 in /Users/neilpatrao/anaconda3/envs/F20AA/lib/python3.12/site-packages (from requests->transformers) (3.6)\n",
      "Requirement already satisfied: urllib3<3,>=1.21.1 in /Users/neilpatrao/anaconda3/envs/F20AA/lib/python3.12/site-packages (from requests->transformers) (2.2.1)\n",
      "Requirement already satisfied: certifi>=2017.4.17 in /Users/neilpatrao/anaconda3/envs/F20AA/lib/python3.12/site-packages (from requests->transformers) (2024.2.2)\n",
      "Requirement already satisfied: blis<0.8.0,>=0.7.8 in /Users/neilpatrao/anaconda3/envs/F20AA/lib/python3.12/site-packages (from thinc<8.3.0,>=8.2.2->spacy) (0.7.11)\n",
      "Requirement already satisfied: confection<1.0.0,>=0.0.1 in /Users/neilpatrao/anaconda3/envs/F20AA/lib/python3.12/site-packages (from thinc<8.3.0,>=8.2.2->spacy) (0.1.4)\n",
      "Requirement already satisfied: cloudpathlib<0.17.0,>=0.7.0 in /Users/neilpatrao/anaconda3/envs/F20AA/lib/python3.12/site-packages (from weasel<0.4.0,>=0.1.0->spacy) (0.16.0)\n",
      "Requirement already satisfied: MarkupSafe>=2.0 in /Users/neilpatrao/anaconda3/envs/F20AA/lib/python3.12/site-packages (from jinja2->spacy) (2.1.5)\n",
      "Requirement already satisfied: pyasn1<0.6.0,>=0.4.6 in /Users/neilpatrao/anaconda3/envs/F20AA/lib/python3.12/site-packages (from pyasn1-modules>=0.2.1->google-auth<3.0.0.dev0,>=1.19.0->google-api-python-client) (0.5.1)\n",
      "Note: you may need to restart the kernel to use updated packages.\n"
     ]
    }
   ],
   "source": [
    "%pip install --upgrade google-api-python-client textblob nltk pandas matplotlib transformers python_dotenv langdetect spacy scikit-learn gensim vaderSentiment"
   ]
  },
  {
   "cell_type": "code",
   "execution_count": 93,
   "metadata": {},
   "outputs": [
    {
     "name": "stdout",
     "output_type": "stream",
     "text": [
      "Collecting en-core-web-sm==3.7.1\n",
      "  Using cached https://github.com/explosion/spacy-models/releases/download/en_core_web_sm-3.7.1/en_core_web_sm-3.7.1-py3-none-any.whl (12.8 MB)\n",
      "Requirement already satisfied: spacy<3.8.0,>=3.7.2 in /Users/neilpatrao/anaconda3/envs/F20AA/lib/python3.12/site-packages (from en-core-web-sm==3.7.1) (3.7.4)\n",
      "Requirement already satisfied: spacy-legacy<3.1.0,>=3.0.11 in /Users/neilpatrao/anaconda3/envs/F20AA/lib/python3.12/site-packages (from spacy<3.8.0,>=3.7.2->en-core-web-sm==3.7.1) (3.0.12)\n",
      "Requirement already satisfied: spacy-loggers<2.0.0,>=1.0.0 in /Users/neilpatrao/anaconda3/envs/F20AA/lib/python3.12/site-packages (from spacy<3.8.0,>=3.7.2->en-core-web-sm==3.7.1) (1.0.5)\n",
      "Requirement already satisfied: murmurhash<1.1.0,>=0.28.0 in /Users/neilpatrao/anaconda3/envs/F20AA/lib/python3.12/site-packages (from spacy<3.8.0,>=3.7.2->en-core-web-sm==3.7.1) (1.0.10)\n",
      "Requirement already satisfied: cymem<2.1.0,>=2.0.2 in /Users/neilpatrao/anaconda3/envs/F20AA/lib/python3.12/site-packages (from spacy<3.8.0,>=3.7.2->en-core-web-sm==3.7.1) (2.0.8)\n",
      "Requirement already satisfied: preshed<3.1.0,>=3.0.2 in /Users/neilpatrao/anaconda3/envs/F20AA/lib/python3.12/site-packages (from spacy<3.8.0,>=3.7.2->en-core-web-sm==3.7.1) (3.0.9)\n",
      "Requirement already satisfied: thinc<8.3.0,>=8.2.2 in /Users/neilpatrao/anaconda3/envs/F20AA/lib/python3.12/site-packages (from spacy<3.8.0,>=3.7.2->en-core-web-sm==3.7.1) (8.2.3)\n",
      "Requirement already satisfied: wasabi<1.2.0,>=0.9.1 in /Users/neilpatrao/anaconda3/envs/F20AA/lib/python3.12/site-packages (from spacy<3.8.0,>=3.7.2->en-core-web-sm==3.7.1) (1.1.2)\n",
      "Requirement already satisfied: srsly<3.0.0,>=2.4.3 in /Users/neilpatrao/anaconda3/envs/F20AA/lib/python3.12/site-packages (from spacy<3.8.0,>=3.7.2->en-core-web-sm==3.7.1) (2.4.8)\n",
      "Requirement already satisfied: catalogue<2.1.0,>=2.0.6 in /Users/neilpatrao/anaconda3/envs/F20AA/lib/python3.12/site-packages (from spacy<3.8.0,>=3.7.2->en-core-web-sm==3.7.1) (2.0.10)\n",
      "Requirement already satisfied: weasel<0.4.0,>=0.1.0 in /Users/neilpatrao/anaconda3/envs/F20AA/lib/python3.12/site-packages (from spacy<3.8.0,>=3.7.2->en-core-web-sm==3.7.1) (0.3.4)\n",
      "Requirement already satisfied: typer<0.10.0,>=0.3.0 in /Users/neilpatrao/anaconda3/envs/F20AA/lib/python3.12/site-packages (from spacy<3.8.0,>=3.7.2->en-core-web-sm==3.7.1) (0.9.0)\n",
      "Requirement already satisfied: smart-open<7.0.0,>=5.2.1 in /Users/neilpatrao/anaconda3/envs/F20AA/lib/python3.12/site-packages (from spacy<3.8.0,>=3.7.2->en-core-web-sm==3.7.1) (6.4.0)\n",
      "Requirement already satisfied: tqdm<5.0.0,>=4.38.0 in /Users/neilpatrao/anaconda3/envs/F20AA/lib/python3.12/site-packages (from spacy<3.8.0,>=3.7.2->en-core-web-sm==3.7.1) (4.66.2)\n",
      "Requirement already satisfied: requests<3.0.0,>=2.13.0 in /Users/neilpatrao/anaconda3/envs/F20AA/lib/python3.12/site-packages (from spacy<3.8.0,>=3.7.2->en-core-web-sm==3.7.1) (2.31.0)\n",
      "Requirement already satisfied: pydantic!=1.8,!=1.8.1,<3.0.0,>=1.7.4 in /Users/neilpatrao/anaconda3/envs/F20AA/lib/python3.12/site-packages (from spacy<3.8.0,>=3.7.2->en-core-web-sm==3.7.1) (2.6.3)\n",
      "Requirement already satisfied: jinja2 in /Users/neilpatrao/anaconda3/envs/F20AA/lib/python3.12/site-packages (from spacy<3.8.0,>=3.7.2->en-core-web-sm==3.7.1) (3.1.3)\n",
      "Requirement already satisfied: setuptools in /Users/neilpatrao/anaconda3/envs/F20AA/lib/python3.12/site-packages (from spacy<3.8.0,>=3.7.2->en-core-web-sm==3.7.1) (69.1.1)\n",
      "Requirement already satisfied: packaging>=20.0 in /Users/neilpatrao/anaconda3/envs/F20AA/lib/python3.12/site-packages (from spacy<3.8.0,>=3.7.2->en-core-web-sm==3.7.1) (23.2)\n",
      "Requirement already satisfied: langcodes<4.0.0,>=3.2.0 in /Users/neilpatrao/anaconda3/envs/F20AA/lib/python3.12/site-packages (from spacy<3.8.0,>=3.7.2->en-core-web-sm==3.7.1) (3.3.0)\n",
      "Requirement already satisfied: numpy>=1.19.0 in /Users/neilpatrao/anaconda3/envs/F20AA/lib/python3.12/site-packages (from spacy<3.8.0,>=3.7.2->en-core-web-sm==3.7.1) (1.26.4)\n",
      "Requirement already satisfied: annotated-types>=0.4.0 in /Users/neilpatrao/anaconda3/envs/F20AA/lib/python3.12/site-packages (from pydantic!=1.8,!=1.8.1,<3.0.0,>=1.7.4->spacy<3.8.0,>=3.7.2->en-core-web-sm==3.7.1) (0.6.0)\n",
      "Requirement already satisfied: pydantic-core==2.16.3 in /Users/neilpatrao/anaconda3/envs/F20AA/lib/python3.12/site-packages (from pydantic!=1.8,!=1.8.1,<3.0.0,>=1.7.4->spacy<3.8.0,>=3.7.2->en-core-web-sm==3.7.1) (2.16.3)\n",
      "Requirement already satisfied: typing-extensions>=4.6.1 in /Users/neilpatrao/anaconda3/envs/F20AA/lib/python3.12/site-packages (from pydantic!=1.8,!=1.8.1,<3.0.0,>=1.7.4->spacy<3.8.0,>=3.7.2->en-core-web-sm==3.7.1) (4.10.0)\n",
      "Requirement already satisfied: charset-normalizer<4,>=2 in /Users/neilpatrao/anaconda3/envs/F20AA/lib/python3.12/site-packages (from requests<3.0.0,>=2.13.0->spacy<3.8.0,>=3.7.2->en-core-web-sm==3.7.1) (3.3.2)\n",
      "Requirement already satisfied: idna<4,>=2.5 in /Users/neilpatrao/anaconda3/envs/F20AA/lib/python3.12/site-packages (from requests<3.0.0,>=2.13.0->spacy<3.8.0,>=3.7.2->en-core-web-sm==3.7.1) (3.6)\n",
      "Requirement already satisfied: urllib3<3,>=1.21.1 in /Users/neilpatrao/anaconda3/envs/F20AA/lib/python3.12/site-packages (from requests<3.0.0,>=2.13.0->spacy<3.8.0,>=3.7.2->en-core-web-sm==3.7.1) (2.2.1)\n",
      "Requirement already satisfied: certifi>=2017.4.17 in /Users/neilpatrao/anaconda3/envs/F20AA/lib/python3.12/site-packages (from requests<3.0.0,>=2.13.0->spacy<3.8.0,>=3.7.2->en-core-web-sm==3.7.1) (2024.2.2)\n",
      "Requirement already satisfied: blis<0.8.0,>=0.7.8 in /Users/neilpatrao/anaconda3/envs/F20AA/lib/python3.12/site-packages (from thinc<8.3.0,>=8.2.2->spacy<3.8.0,>=3.7.2->en-core-web-sm==3.7.1) (0.7.11)\n",
      "Requirement already satisfied: confection<1.0.0,>=0.0.1 in /Users/neilpatrao/anaconda3/envs/F20AA/lib/python3.12/site-packages (from thinc<8.3.0,>=8.2.2->spacy<3.8.0,>=3.7.2->en-core-web-sm==3.7.1) (0.1.4)\n",
      "Requirement already satisfied: click<9.0.0,>=7.1.1 in /Users/neilpatrao/anaconda3/envs/F20AA/lib/python3.12/site-packages (from typer<0.10.0,>=0.3.0->spacy<3.8.0,>=3.7.2->en-core-web-sm==3.7.1) (8.1.7)\n",
      "Requirement already satisfied: cloudpathlib<0.17.0,>=0.7.0 in /Users/neilpatrao/anaconda3/envs/F20AA/lib/python3.12/site-packages (from weasel<0.4.0,>=0.1.0->spacy<3.8.0,>=3.7.2->en-core-web-sm==3.7.1) (0.16.0)\n",
      "Requirement already satisfied: MarkupSafe>=2.0 in /Users/neilpatrao/anaconda3/envs/F20AA/lib/python3.12/site-packages (from jinja2->spacy<3.8.0,>=3.7.2->en-core-web-sm==3.7.1) (2.1.5)\n",
      "\u001b[38;5;2m✔ Download and installation successful\u001b[0m\n",
      "You can now load the package via spacy.load('en_core_web_sm')\n"
     ]
    },
    {
     "name": "stderr",
     "output_type": "stream",
     "text": [
      "WARNING: Ignoring invalid distribution -yspark (c:\\users\\devesh pansare\\appdata\\roaming\\python\\python310\\site-packages)\n",
      "WARNING: Ignoring invalid distribution -atplotlib (c:\\python310\\lib\\site-packages)\n",
      "WARNING: Ignoring invalid distribution -ip (c:\\python310\\lib\\site-packages)\n",
      "WARNING: Ignoring invalid distribution -orch (c:\\python310\\lib\\site-packages)\n",
      "WARNING: Ignoring invalid distribution -yspark (c:\\users\\devesh pansare\\appdata\\roaming\\python\\python310\\site-packages)\n",
      "WARNING: Ignoring invalid distribution -atplotlib (c:\\python310\\lib\\site-packages)\n",
      "WARNING: Ignoring invalid distribution -ip (c:\\python310\\lib\\site-packages)\n",
      "WARNING: Ignoring invalid distribution -orch (c:\\python310\\lib\\site-packages)\n",
      "WARNING: Ignoring invalid distribution -yspark (c:\\users\\devesh pansare\\appdata\\roaming\\python\\python310\\site-packages)\n",
      "WARNING: Ignoring invalid distribution -yspark (c:\\users\\devesh pansare\\appdata\\roaming\\python\\python310\\site-packages)\n"
     ]
    }
   ],
   "source": [
    "!python -m spacy download en_core_web_sm"
   ]
  },
  {
   "cell_type": "code",
   "execution_count": 60,
   "metadata": {},
   "outputs": [
    {
     "name": "stderr",
     "output_type": "stream",
     "text": [
      "/var/folders/55/vxd0w9dx33d3t5dnclgnft5w0000gn/T/ipykernel_4746/1472451128.py:27: DeprecationWarning: Importing display from IPython.core.display is deprecated since IPython 7.14, please import from IPython display\n",
      "  from IPython.core.display import display, HTML\n"
     ]
    }
   ],
   "source": [
    "import os\n",
    "import re\n",
    "import json\n",
    "import nltk\n",
    "import spacy\n",
    "import random\n",
    "import warnings\n",
    "import googleapiclient.errors\n",
    "import googleapiclient.discovery\n",
    "\n",
    "import numpy as np\n",
    "import pandas as pd\n",
    "import seaborn as sns\n",
    "import langdetect as ld\n",
    "import matplotlib.cm as cm\n",
    "import matplotlib.pyplot as plt\n",
    "\n",
    "from textblob import TextBlob\n",
    "from vaderSentiment.vaderSentiment import SentimentIntensityAnalyzer\n",
    "from transformers import pipeline\n",
    "from dotenv import find_dotenv, load_dotenv\n",
    "\n",
    "from tqdm import tqdm\n",
    "from nltk.corpus import stopwords\n",
    "from gensim.models import Word2Vec\n",
    "from nltk.stem import WordNetLemmatizer\n",
    "from IPython.core.display import display, HTML\n",
    "\n",
    "from sklearn.manifold import TSNE\n",
    "from sklearn.datasets import load_files\n",
    "from sklearn.preprocessing import label_binarize\n",
    "from sklearn.exceptions import ConvergenceWarning\n",
    "from sklearn.linear_model import LogisticRegression\n",
    "from sklearn.pipeline import make_pipeline, Pipeline\n",
    "from sklearn.base import BaseEstimator, TransformerMixin\n",
    "from sklearn.feature_extraction.text import CountVectorizer, TfidfVectorizer\n",
    "from sklearn.model_selection import train_test_split, cross_val_score, GridSearchCV\n",
    "from sklearn.metrics import accuracy_score, precision_score, recall_score, f1_score, roc_curve, auc, confusion_matrix, ConfusionMatrixDisplay, RocCurveDisplay, classification_report\n",
    "\n",
    "from sklearn.svm import SVC\n",
    "from sklearn.linear_model import SGDClassifier\n",
    "from sklearn.tree import DecisionTreeClassifier\n",
    "from sklearn.neighbors import KNeighborsClassifier\n",
    "from sklearn.ensemble import RandomForestClassifier\n",
    "from sklearn.naive_bayes import GaussianNB, MultinomialNB"
   ]
  },
  {
   "cell_type": "markdown",
   "metadata": {},
   "source": [
    "### **Ignoring Warnings**"
   ]
  },
  {
   "cell_type": "code",
   "execution_count": 4,
   "metadata": {},
   "outputs": [],
   "source": [
    "warnings.filterwarnings(\"ignore\", category=UserWarning)\n",
    "warnings.filterwarnings(\"ignore\", category=FutureWarning)\n",
    "warnings.filterwarnings(\"ignore\", category=ConvergenceWarning)"
   ]
  },
  {
   "cell_type": "markdown",
   "metadata": {},
   "source": [
    "## **Part A: Data Collection**"
   ]
  },
  {
   "cell_type": "markdown",
   "metadata": {},
   "source": [
    "### **Setup**"
   ]
  },
  {
   "cell_type": "markdown",
   "metadata": {},
   "source": [
    "#### YouTube API setup"
   ]
  },
  {
   "cell_type": "code",
   "execution_count": 96,
   "metadata": {},
   "outputs": [],
   "source": [
    "load_dotenv(find_dotenv())\n",
    "\n",
    "api_service_name = \"youtube\"\n",
    "api_version = \"v3\"\n",
    "developer_key = os.getenv(\"DEVELOPER_KEY\")\n",
    "youtube = googleapiclient.discovery.build(api_service_name, api_version, developerKey=developer_key)\n",
    "\n",
    "# Print out key for sanity\n",
    "# developer_key"
   ]
  },
  {
   "cell_type": "markdown",
   "metadata": {},
   "source": [
    "### **Helper Functions**"
   ]
  },
  {
   "cell_type": "markdown",
   "metadata": {},
   "source": [
    "#### Helper functions to retrieve and store video ids"
   ]
  },
  {
   "cell_type": "code",
   "execution_count": 97,
   "metadata": {},
   "outputs": [],
   "source": [
    "# Gets video ids using the youtube api\n",
    "def get_video_ids(topics : list, n_videos: int, n_buffer_videos: int = 0, min_comment_count : int = 0): \n",
    "\n",
    "    unique_video_ids = set()\n",
    "    video_ids = {}\n",
    "\n",
    "    for topic in topics:\n",
    "        search_response = youtube.search().list(\n",
    "            part=\"snippet\",\n",
    "            maxResults=n_videos + n_buffer_videos,\n",
    "            order=\"relevance\",\n",
    "            q=topic,\n",
    "            # type=\"video\"\n",
    "        ).execute()\n",
    "\n",
    "        # print(json.dumps(search_response, indent=4))\n",
    "\n",
    "        topic_video_ids = []\n",
    "        response_video_ids = [item['id']['videoId'] for item in search_response['items'] if item['id']['kind'] == \"youtube#video\"]\n",
    "\n",
    "        for video_id in response_video_ids:\n",
    "            video_response = youtube.videos().list(\n",
    "                part=\"snippet,statistics\",\n",
    "                id=video_id\n",
    "            ).execute()\n",
    "\n",
    "            video_items = video_response[\"items\"][0]\n",
    "            if \"statistics\" in video_items and \"commentCount\" in video_items[\"statistics\"]:\n",
    "                comment_count = int(video_response[\"items\"][0][\"statistics\"][\"commentCount\"])\n",
    "            else:\n",
    "                comment_count = 0\n",
    "\n",
    "            if comment_count > min_comment_count and video_id not in unique_video_ids and len(topic_video_ids) < n_videos:\n",
    "                unique_video_ids.add(video_id)\n",
    "                topic_video_ids.append(video_id)\n",
    "        \n",
    "        video_ids[topic] = topic_video_ids\n",
    "\n",
    "    return video_ids\n",
    "\n",
    "# Stores video ids into a json file\n",
    "def write_video_ids(video_ids, file_path: str):\n",
    "    with open(file_path, \"w\") as out_file: \n",
    "        json.dump(video_ids, out_file, indent=4) \n",
    "\n",
    "# Reads video ids from the json file\n",
    "def read_video_ids(file_path: str):\n",
    "    with open(file_path, \"r\") as in_file:\n",
    "        video_ids = json.load(in_file)\n",
    "    return video_ids"
   ]
  },
  {
   "cell_type": "markdown",
   "metadata": {},
   "source": [
    "#### Helper functions to retrieve and store comments"
   ]
  },
  {
   "cell_type": "code",
   "execution_count": 98,
   "metadata": {},
   "outputs": [],
   "source": [
    "# Gets video comments using the youtube api\n",
    "def get_comments(video_ids: list, n_comments: int, n_buffer_comments: int = 0, lang_code: str = 'en'):\n",
    "\n",
    "    video_comments = {}\n",
    "\n",
    "    for video_id in video_ids:\n",
    "        try:\n",
    "            comments = []\n",
    "            next_page_token = None\n",
    "\n",
    "            while len(comments) < n_comments + n_buffer_comments:\n",
    "                comments_response = youtube.commentThreads().list(\n",
    "                    part=\"snippet\", \n",
    "                    videoId=video_id, \n",
    "                    maxResults=n_comments + n_buffer_comments, \n",
    "                    order=\"relevance\",\n",
    "                    pageToken=next_page_token\n",
    "                ).execute() # Fetch comments\n",
    "\n",
    "                response_comments = [item['snippet']['topLevelComment']['snippet']['textDisplay'] for item in comments_response[\"items\"]]\n",
    "\n",
    "                for comment in response_comments:\n",
    "                    try:\n",
    "                        if ld.detect(comment) == lang_code and len(comments) < n_comments:\n",
    "                            comments.append(comment)\n",
    "                    except ld.LangDetectException:\n",
    "                        # Handle the case where the language detection fails\n",
    "                        pass\n",
    "\n",
    "                next_page_token = comments_response.get(\"nextPageToken\")\n",
    "                if not next_page_token:\n",
    "                    break\n",
    "            \n",
    "            video_comments[video_id] = comments\n",
    "\n",
    "        except googleapiclient.errors.HttpError as e:\n",
    "            print(f\"Error processing video {video_id}: {e}\")\n",
    "\n",
    "    return video_comments\n",
    "\n",
    "# Stores video comments into a json file\n",
    "def write_video_comments(video_comments, file_path: str):\n",
    "    with open(file_path, \"w\") as out_file: \n",
    "        json.dump(video_comments, out_file, indent=4) \n",
    "\n",
    "# Reads video comments from the json file\n",
    "def read_video_comments(file_path: str):\n",
    "    with open(file_path, \"r\") as in_file:\n",
    "        video_comments = json.load(in_file)\n",
    "    return video_comments"
   ]
  },
  {
   "cell_type": "markdown",
   "metadata": {},
   "source": [
    "### **Main**\n",
    "\n",
    "In order to automatically curate the videos, we define the 'topics' list below that contains the list of 6 topics we're interested in. This helps us get the most relevant videos by specifying the different parameters to filter and sort the results. Additionally, we store the extracted video ids into a json file to minimize the unessential usage of YouTube Data API.\n",
    "\n",
    "In total: We extract 8 videos per topic, 6 topics in total. Moreover, we extract the top 250 comments per video."
   ]
  },
  {
   "cell_type": "code",
   "execution_count": 99,
   "metadata": {},
   "outputs": [],
   "source": [
    "# List of topic queries\n",
    "topics = [\"ai controversy\", \"ai taking over jobs\", \"self driving cars controversy\", \"ai music controversy\", \"ai art controversy\", \"ai programming controversy\"]"
   ]
  },
  {
   "cell_type": "code",
   "execution_count": 100,
   "metadata": {},
   "outputs": [
    {
     "name": "stdout",
     "output_type": "stream",
     "text": [
      "Reading video ids from file\n"
     ]
    }
   ],
   "source": [
    "# Extract videos on topic\n",
    "if (os.path.exists(\"video_ids.json\")):\n",
    "    print(\"Reading video ids from file\")\n",
    "    video_ids = read_video_ids(\"video_ids.json\")\n",
    "else:\n",
    "    print(\"Searching for videos using the API\")\n",
    "    video_ids = get_video_ids(topics, 10, 5, 250)\n",
    "    write_video_ids(video_ids, \"video_ids.json\")"
   ]
  },
  {
   "cell_type": "code",
   "execution_count": 101,
   "metadata": {},
   "outputs": [
    {
     "name": "stdout",
     "output_type": "stream",
     "text": [
      "Reading comments from file\n"
     ]
    }
   ],
   "source": [
    "video_ids = sum(read_video_ids(\"video_ids.json\").values(), [])\n",
    "\n",
    "# Retrieve comments for each video\n",
    "if (os.path.exists(\"video_comments.json\")):\n",
    "    print(\"Reading comments from file\")\n",
    "    video_comments = read_video_comments(\"video_comments.json\")\n",
    "else:\n",
    "    print(\"Retrieving comments using the API\")\n",
    "    video_comments = get_comments(video_ids, 250, 50)\n",
    "    write_video_comments(video_comments, \"video_comments.json\")"
   ]
  },
  {
   "cell_type": "markdown",
   "metadata": {},
   "source": [
    "## **Part B: Data Analysis, Selection and Labeling**"
   ]
  },
  {
   "cell_type": "markdown",
   "metadata": {},
   "source": [
    "### **Helper Functions**"
   ]
  },
  {
   "cell_type": "markdown",
   "metadata": {},
   "source": [
    "#### Helper functions to identify relevant comments and run BERT, VADER and TextBlob sentiment analyzers"
   ]
  },
  {
   "cell_type": "code",
   "execution_count": 102,
   "metadata": {},
   "outputs": [],
   "source": [
    "NEGATIVE = -1\n",
    "NEUTRAL = 0\n",
    "POSITIVE = 1\n",
    "RELEVANT = \"relevant\"\n",
    "IRRELEVANT = \"irrelevant\""
   ]
  },
  {
   "cell_type": "code",
   "execution_count": 103,
   "metadata": {},
   "outputs": [],
   "source": [
    "def is_relevant_comment(comment, relevant_words): # Check if a comment contains any relevant words\n",
    "    return any(re.search(r'\\b' + re.escape(word) + r'\\b', comment, re.IGNORECASE) for word in relevant_words) \n",
    "\n",
    "def bert(comment: str, sentiment_pipeline,  neutral_threshold: int):\n",
    "    # Truncate comments to avoid exceeding the model's maximum token length\n",
    "    truncated_comment = comment[:512] \n",
    "    result = sentiment_pipeline(truncated_comment)[0]\n",
    "    label, score = result['label'], result['score']\n",
    "\n",
    "    # Determine sentiment based on score threshold\n",
    "    if score < neutral_threshold:\n",
    "        polarity = NEUTRAL  # Neutral\n",
    "    else:\n",
    "        polarity = POSITIVE if label == 'POSITIVE' else NEGATIVE\n",
    "\n",
    "    return polarity\n",
    "\n",
    "\n",
    "def vader(comment: str, analyzer: SentimentIntensityAnalyzer):\n",
    "    # Analyze the sentiment of the comment\n",
    "    result = analyzer.polarity_scores(comment)\n",
    "    compound_score = result['compound']\n",
    "\n",
    "    # Determine sentiment based on compound score\n",
    "    if compound_score >= 0.1:\n",
    "        polarity = POSITIVE\n",
    "    elif compound_score <= -0.1:\n",
    "        polarity = NEGATIVE\n",
    "    else:\n",
    "        polarity = NEUTRAL\n",
    "\n",
    "    return polarity\n",
    "\n",
    "\n",
    "def run_sentiment_analyzer(analyzer: str, comments: list, relevant_words:list, sentiment_pipeline = None):\n",
    "\n",
    "    labeled_comments = []\n",
    "    for comment in comments:\n",
    "        if is_relevant_comment(comment, relevant_words):\n",
    "            match analyzer:\n",
    "                case 'text_blob':\n",
    "                    #print(\"Comment outside text_blob function:    \", comment)\n",
    "                    polarity = TextBlob(comment).sentiment.polarity\n",
    "                    polarity = POSITIVE if polarity > 0 else NEGATIVE if polarity < 0 else NEUTRAL\n",
    "                case 'vader':\n",
    "                    polarity = vader(comment, SentimentIntensityAnalyzer())\n",
    "                case 'bert':\n",
    "                    #print(\"Comment outside bert function:         \", comment)\n",
    "                    polarity = bert(comment, sentiment_pipeline, neutral_threshold=0.55)\n",
    "                case _:\n",
    "                    raise Exception(\"Invalid or no analyzer provided\")\n",
    "            relevancy = RELEVANT\n",
    "        else:\n",
    "            polarity = NEUTRAL\n",
    "            relevancy = IRRELEVANT\n",
    "\n",
    "        labeled_comments.append({\n",
    "            'relevance': relevancy,\n",
    "            'text': comment,\n",
    "            'polarity': polarity\n",
    "        })\n",
    "\n",
    "    return labeled_comments"
   ]
  },
  {
   "cell_type": "markdown",
   "metadata": {},
   "source": [
    "### **Data Selection and Labeling**"
   ]
  },
  {
   "cell_type": "markdown",
   "metadata": {},
   "source": [
    "In order to filter the most relevant comments, we curate a list of relevant keywords in order to identify comments that are relvant to our topic.\n",
    "The keywords below are in the order of the following topics:\n",
    "- AI Controversy\n",
    "- AI taking over jobs\n",
    "- Self-driving cars\n",
    "- AI music controversy\n",
    "- AI art controversy\n",
    "- AI programming controversy\n",
    "\n",
    "The keyword matching step helps us distinguish relevant comments from the irrelavant ones, thus helping in training our model more precisely."
   ]
  },
  {
   "cell_type": "code",
   "execution_count": 104,
   "metadata": {},
   "outputs": [],
   "source": [
    "# List of relevant words\n",
    "relevant_words = [\"ai\", \"controversy\", \"dilemma\", \"ethics\", \"ethical\",\n",
    "                  \"job\", \"jobs\", \"industry\", \"industries\", \"work\", \"worker\", \"workers\", \"employment\", \"unemployment\", \n",
    "                  \"car\", \"cars\" \"drive\", \"drives\", \"driving\", \"self driving\", \"self-driving\", \"autonomous\", \"vehicle\", \"vehicles\",\n",
    "                  \"music\", \"musician\", \"musicians\", \"compose\", \"composes\", \"composer\", \"composers\", \"composition\", \"compositions\", \"song\", \"songs\", \"sing\", \"sings\", \"singer\", \"singers\", \"singing\", \n",
    "                  \"art\", \"arts\", \"artwork\", \"artworks\", \"artist\", \"artists\", \"image\", \"images\", \"graphic\", \"graphics\", \"draw\", \"draws\", \"drawing\", \"paint\", \"painting\", \n",
    "                  \"code\", \"codes\", \"coding\", \"program\", \"programs\", \"programming\", \"language\", \"languages\", \"software\", \"developer\", \"developers\", \"development\", \"developments\", \"engineer\", \"engineers\", \"engineering\"]"
   ]
  },
  {
   "cell_type": "markdown",
   "metadata": {},
   "source": [
    "The above words are passed into the **run_sentiment_analyzer()** function in order to separate out irrelevent comments and assign them the **NEUTRAL** polarity. \\\n",
    "We do this as these comments should have no effect on the sentiment of the topic as a whole.\n",
    "\n",
    "In order to label our dataset, we make use of TextBlob, VADER as well as BERT models. These models, specifically BERT is a state-of-the-art model, and the most advanced method for labelling."
   ]
  },
  {
   "cell_type": "code",
   "execution_count": 105,
   "metadata": {},
   "outputs": [],
   "source": [
    "all_comments_TB = []\n",
    "all_comments_VADER = []\n",
    "all_comments_BERT = []\n",
    "\n",
    "sentiment_pipeline = pipeline(\"sentiment-analysis\", model=\"distilbert-base-uncased-finetuned-sst-2-english\")\n",
    "analyzer = SentimentIntensityAnalyzer()\n",
    "\n",
    "# Run sentiment analysis on comments\n",
    "for comment_list in video_comments.values():\n",
    "    all_comments_TB.extend(run_sentiment_analyzer(\"text_blob\", comment_list, relevant_words))\n",
    "    all_comments_VADER.extend(run_sentiment_analyzer(\"vader\", comment_list, relevant_words, analyzer))\n",
    "    all_comments_BERT.extend(run_sentiment_analyzer(\"bert\", comment_list, relevant_words, sentiment_pipeline))\n",
    "\n",
    "# Convert to dataframes and remove duplicate comments\n",
    "df_TB = pd.DataFrame(all_comments_TB).drop_duplicates(subset=['text'])\n",
    "df_VADER = pd.DataFrame(all_comments_VADER).drop_duplicates(subset=['text']) \n",
    "df_BERT = pd.DataFrame(all_comments_BERT).drop_duplicates(subset=['text'])\n",
    "\n",
    "df_TB.to_csv('TB_comments.csv', index=False)\n",
    "df_VADER.to_csv('VADER_comments.csv', index=False)\n",
    "df_BERT.to_csv('BERT_comments.csv', index=False)"
   ]
  },
  {
   "cell_type": "code",
   "execution_count": 106,
   "metadata": {},
   "outputs": [],
   "source": [
    "# Reading the BERT, VADER and TB comments from a file to prevent regenerating the labels above\n",
    "df_TB = pd.read_csv(\"TB_comments.csv\")\n",
    "df_VADER = pd.read_csv(\"VADER_comments.csv\")\n",
    "df_BERT = pd.read_csv(\"BERT_comments.csv\")"
   ]
  },
  {
   "cell_type": "markdown",
   "metadata": {},
   "source": [
    "As we can see below, BERT labeling as compared to Textblob and VADER gave more reasonable and accurate polarities to most of our comments. There are still a few comments where the assigned polarity is questionable but for the most part we found BERT to be better. Not to forget BERT is in-fact the State-of-the-art model.\n",
    "\n",
    "**Hence, we decided to go ahead with the BERT labelling.**"
   ]
  },
  {
   "cell_type": "code",
   "execution_count": 107,
   "metadata": {},
   "outputs": [],
   "source": [
    "pd.set_option('display.max_colwidth', None)"
   ]
  },
  {
   "cell_type": "code",
   "execution_count": 108,
   "metadata": {},
   "outputs": [
    {
     "data": {
      "text/html": [
       "<div>\n",
       "<style scoped>\n",
       "    .dataframe tbody tr th:only-of-type {\n",
       "        vertical-align: middle;\n",
       "    }\n",
       "\n",
       "    .dataframe tbody tr th {\n",
       "        vertical-align: top;\n",
       "    }\n",
       "\n",
       "    .dataframe thead th {\n",
       "        text-align: right;\n",
       "    }\n",
       "</style>\n",
       "<table border=\"1\" class=\"dataframe\">\n",
       "  <thead>\n",
       "    <tr style=\"text-align: right;\">\n",
       "      <th></th>\n",
       "      <th>relevance</th>\n",
       "      <th>text</th>\n",
       "      <th>polarity_BERT</th>\n",
       "      <th>polarity_TB</th>\n",
       "    </tr>\n",
       "  </thead>\n",
       "  <tbody>\n",
       "    <tr>\n",
       "      <th>0</th>\n",
       "      <td>irrelevant</td>\n",
       "      <td>on a lighter note, Merry Christmas my children :)</td>\n",
       "      <td>0</td>\n",
       "      <td>0</td>\n",
       "    </tr>\n",
       "    <tr>\n",
       "      <th>1</th>\n",
       "      <td>relevant</td>\n",
       "      <td>&amp;quot;If AI makes me an artist, then a microwave makes me a chef&amp;quot;&lt;br&gt;- a wise internet artist</td>\n",
       "      <td>1</td>\n",
       "      <td>1</td>\n",
       "    </tr>\n",
       "    <tr>\n",
       "      <th>2</th>\n",
       "      <td>relevant</td>\n",
       "      <td>What makes me most upset about this whole situation is how aggressively heartless people&amp;#39;s reactions are. Not only do people not care, they celebrate the downfall of artists. It is said AI generated art lacks soul &amp;amp; humanity... my dude, somewhere along the way society has ALREADY lost this</td>\n",
       "      <td>-1</td>\n",
       "      <td>1</td>\n",
       "    </tr>\n",
       "    <tr>\n",
       "      <th>3</th>\n",
       "      <td>relevant</td>\n",
       "      <td>The irony of AI art bros is that they tell us artists to shut up and deal with it, but they cry about ppl stealing or mimmicing their AI art prompts. The hypocrisy is hilarious.</td>\n",
       "      <td>1</td>\n",
       "      <td>1</td>\n",
       "    </tr>\n",
       "    <tr>\n",
       "      <th>4</th>\n",
       "      <td>relevant</td>\n",
       "      <td>I am not related to art, I was just researching ai art for business purposes, I&amp;#39;ve heard that artists are not happy about it and wanted to know why, and stumbled upon your video. Thank you for putting it out there. It honestly blows my mind how people refuse to understand and empathize with your struggle, even if you aren&amp;#39;t an artist, it&amp;#39;s not freaking hard to imagine what it&amp;#39;s like to spend years working on your craft and produce a lot things, and then have those things stolen and the fruits of your labour being used for profit by others. Disgusting. Why the hell would anyone push against you in this matter?&lt;br&gt;Dear artists, please value yourself, you are a gift to the world and your work is immensely valuable, keep fighting for yourselves. I&amp;#39;m a regular person but I will take any chance that I get to speak for your benefit and do what I can to help.</td>\n",
       "      <td>1</td>\n",
       "      <td>-1</td>\n",
       "    </tr>\n",
       "    <tr>\n",
       "      <th>...</th>\n",
       "      <td>...</td>\n",
       "      <td>...</td>\n",
       "      <td>...</td>\n",
       "      <td>...</td>\n",
       "    </tr>\n",
       "    <tr>\n",
       "      <th>11432</th>\n",
       "      <td>relevant</td>\n",
       "      <td>These guys think no one has givern them code that wasnt assisted with Copilot at this stage? lol. Come on. They should know better.</td>\n",
       "      <td>-1</td>\n",
       "      <td>1</td>\n",
       "    </tr>\n",
       "    <tr>\n",
       "      <th>11433</th>\n",
       "      <td>relevant</td>\n",
       "      <td>What hardware giveth, software taketh away. We have hardware 100x faster than previous generation, but all that allow is for the dev to be 100x lazier and the code 100x more unoptimized.</td>\n",
       "      <td>-1</td>\n",
       "      <td>1</td>\n",
       "    </tr>\n",
       "    <tr>\n",
       "      <th>11434</th>\n",
       "      <td>relevant</td>\n",
       "      <td>I really like this take, and AI code review is amazingly something I have yet to see being implemented, despite AI getting pushed down our throat everywhere.&lt;br&gt;Why bother with getting the AI to write code for you, or why bother with AI generating your merge request text? It&amp;#39;d be so much more useful if you let it run as a CI step and have it point out what it thinks are mistakes - cheap and instantaneous code reviews, with little risk involved since it&amp;#39;s not gonna hallucinating code in critical areas</td>\n",
       "      <td>-1</td>\n",
       "      <td>1</td>\n",
       "    </tr>\n",
       "    <tr>\n",
       "      <th>11435</th>\n",
       "      <td>irrelevant</td>\n",
       "      <td>More over, your brain also gets serial input, audio is serial, word is serial. &amp;quot;Next word&amp;quot; is a very good function approximator.</td>\n",
       "      <td>0</td>\n",
       "      <td>0</td>\n",
       "    </tr>\n",
       "    <tr>\n",
       "      <th>11436</th>\n",
       "      <td>relevant</td>\n",
       "      <td>- Raise your hands who use AI to (help) write your code? -)</td>\n",
       "      <td>-1</td>\n",
       "      <td>0</td>\n",
       "    </tr>\n",
       "  </tbody>\n",
       "</table>\n",
       "<p>11437 rows × 4 columns</p>\n",
       "</div>"
      ],
      "text/plain": [
       "        relevance  \\\n",
       "0      irrelevant   \n",
       "1        relevant   \n",
       "2        relevant   \n",
       "3        relevant   \n",
       "4        relevant   \n",
       "...           ...   \n",
       "11432    relevant   \n",
       "11433    relevant   \n",
       "11434    relevant   \n",
       "11435  irrelevant   \n",
       "11436    relevant   \n",
       "\n",
       "                                                                                                                                                                                                                                                                                                                                                                                                                                                                                                                                                                                                                                                                                                                                                                                                                                                                                                                      text  \\\n",
       "0                                                                                                                                                                                                                                                                                                                                                                                                                                                                                                                                                                                                                                                                                                                                                                                                                                                                        on a lighter note, Merry Christmas my children :)   \n",
       "1                                                                                                                                                                                                                                                                                                                                                                                                                                                                                                                                                                                                                                                                                                                                                                                                                       &quot;If AI makes me an artist, then a microwave makes me a chef&quot;<br>- a wise internet artist   \n",
       "2                                                                                                                                                                                                                                                                                                                                                                                                                                                                                                                                                                                                               What makes me most upset about this whole situation is how aggressively heartless people&#39;s reactions are. Not only do people not care, they celebrate the downfall of artists. It is said AI generated art lacks soul &amp; humanity... my dude, somewhere along the way society has ALREADY lost this   \n",
       "3                                                                                                                                                                                                                                                                                                                                                                                                                                                                                                                                                                                                                                                                                                                                        The irony of AI art bros is that they tell us artists to shut up and deal with it, but they cry about ppl stealing or mimmicing their AI art prompts. The hypocrisy is hilarious.   \n",
       "4      I am not related to art, I was just researching ai art for business purposes, I&#39;ve heard that artists are not happy about it and wanted to know why, and stumbled upon your video. Thank you for putting it out there. It honestly blows my mind how people refuse to understand and empathize with your struggle, even if you aren&#39;t an artist, it&#39;s not freaking hard to imagine what it&#39;s like to spend years working on your craft and produce a lot things, and then have those things stolen and the fruits of your labour being used for profit by others. Disgusting. Why the hell would anyone push against you in this matter?<br>Dear artists, please value yourself, you are a gift to the world and your work is immensely valuable, keep fighting for yourselves. I&#39;m a regular person but I will take any chance that I get to speak for your benefit and do what I can to help.   \n",
       "...                                                                                                                                                                                                                                                                                                                                                                                                                                                                                                                                                                                                                                                                                                                                                                                                                                                                                                                    ...   \n",
       "11432                                                                                                                                                                                                                                                                                                                                                                                                                                                                                                                                                                                                                                                                                                                                                                                  These guys think no one has givern them code that wasnt assisted with Copilot at this stage? lol. Come on. They should know better.   \n",
       "11433                                                                                                                                                                                                                                                                                                                                                                                                                                                                                                                                                                                                                                                                                                                           What hardware giveth, software taketh away. We have hardware 100x faster than previous generation, but all that allow is for the dev to be 100x lazier and the code 100x more unoptimized.   \n",
       "11434                                                                                                                                                                                                                                                                                                                                                                                    I really like this take, and AI code review is amazingly something I have yet to see being implemented, despite AI getting pushed down our throat everywhere.<br>Why bother with getting the AI to write code for you, or why bother with AI generating your merge request text? It&#39;d be so much more useful if you let it run as a CI step and have it point out what it thinks are mistakes - cheap and instantaneous code reviews, with little risk involved since it&#39;s not gonna hallucinating code in critical areas   \n",
       "11435                                                                                                                                                                                                                                                                                                                                                                                                                                                                                                                                                                                                                                                                                                                                                                           More over, your brain also gets serial input, audio is serial, word is serial. &quot;Next word&quot; is a very good function approximator.   \n",
       "11436                                                                                                                                                                                                                                                                                                                                                                                                                                                                                                                                                                                                                                                                                                                                                                                                                                                          - Raise your hands who use AI to (help) write your code? -)   \n",
       "\n",
       "       polarity_BERT  polarity_TB  \n",
       "0                  0            0  \n",
       "1                  1            1  \n",
       "2                 -1            1  \n",
       "3                  1            1  \n",
       "4                  1           -1  \n",
       "...              ...          ...  \n",
       "11432             -1            1  \n",
       "11433             -1            1  \n",
       "11434             -1            1  \n",
       "11435              0            0  \n",
       "11436             -1            0  \n",
       "\n",
       "[11437 rows x 4 columns]"
      ]
     },
     "execution_count": 108,
     "metadata": {},
     "output_type": "execute_result"
    }
   ],
   "source": [
    "df_BERT_TB = pd.merge(df_BERT, df_TB, on=[\"text\", \"relevance\"], suffixes=(\"_BERT\", \"_TB\"))\n",
    "df_BERT_TB"
   ]
  },
  {
   "cell_type": "code",
   "execution_count": 109,
   "metadata": {},
   "outputs": [],
   "source": [
    "pd.set_option('display.max_colwidth', 50)"
   ]
  },
  {
   "cell_type": "markdown",
   "metadata": {},
   "source": [
    "### **Splitting the Dataset**"
   ]
  },
  {
   "cell_type": "markdown",
   "metadata": {},
   "source": [
    "Here we split the BERT-labeled dataset into a 80-20 train-test split and store them as separate **.csv** files"
   ]
  },
  {
   "cell_type": "code",
   "execution_count": 110,
   "metadata": {},
   "outputs": [],
   "source": [
    "X, y = df_BERT[[\"relevance\", \"text\"]], df_BERT[\"polarity\"]\n",
    "X_train, X_test, y_train, y_test = train_test_split(X, y, test_size=0.2, random_state=42)\n",
    "train = pd.concat([X_train, y_train], axis=1)\n",
    "test = pd.concat([X_test, y_test], axis=1)\n",
    "train.to_csv('data/yt_comments/train.csv', index=False)\n",
    "test.to_csv('data/yt_comments/test.csv', index=False)"
   ]
  },
  {
   "cell_type": "markdown",
   "metadata": {},
   "source": [
    "### **Initial Analysis using TextBlob and VADER**\n"
   ]
  },
  {
   "cell_type": "code",
   "execution_count": 111,
   "metadata": {},
   "outputs": [
    {
     "name": "stdout",
     "output_type": "stream",
     "text": [
      "TextBlob: \n",
      "                                                 text  polarity\n",
      "0  on a lighter note, Merry Christmas my children :)         1\n",
      "1  &quot;If AI makes me an artist, then a microwa...         1\n",
      "2  What makes me most upset about this whole situ...         1\n",
      "3  The irony of AI art bros is that they tell us ...         1\n",
      "4  I am not related to art, I was just researchin...        -1 \n",
      "\n",
      "\n",
      "VADER: \n",
      "                                                 text  polarity\n",
      "0  on a lighter note, Merry Christmas my children :)         1\n",
      "1  &quot;If AI makes me an artist, then a microwa...         1\n",
      "2  What makes me most upset about this whole situ...        -1\n",
      "3  The irony of AI art bros is that they tell us ...        -1\n",
      "4  I am not related to art, I was just researchin...         1 \n",
      "\n"
     ]
    }
   ],
   "source": [
    "Top_TB_comments = []\n",
    "Top_VADER_comments = []\n",
    "\n",
    "for video_id, comments in video_comments.items():\n",
    "    # Extract the top 10 comments\n",
    "    top_comments = comments[:10]\n",
    "    for comment in top_comments:\n",
    "        blob = TextBlob(comment).sentiment.polarity\n",
    "        polarity_TB = POSITIVE if blob > 0 else NEGATIVE if blob < 0 else NEUTRAL\n",
    "\n",
    "        vader = analyzer.polarity_scores(comment)['compound']\n",
    "        polarity_VADER = POSITIVE if vader >= 0.1 else NEGATIVE if vader <= -0.1 else NEUTRAL\n",
    "\n",
    "        Top_TB_comments.append({'text': comment, 'polarity': polarity_TB})\n",
    "        Top_VADER_comments.append({'text': comment, 'polarity': polarity_VADER})\n",
    "\n",
    "df_TB = pd.DataFrame(Top_TB_comments)\n",
    "df_VADER = pd.DataFrame(Top_VADER_comments)\n",
    "\n",
    "df_TB.to_csv('Test_TB_comments.csv', index=False)\n",
    "df_VADER.to_csv('Test_VADER_comments.csv', index=False)\n",
    "\n",
    "print(\"TextBlob: \\n\", df_TB.head(), \"\\n\\n\")\n",
    "print(\"VADER: \\n\", df_VADER.head(), \"\\n\")\n"
   ]
  },
  {
   "cell_type": "markdown",
   "metadata": {},
   "source": [
    "### **Loading the Dataset**"
   ]
  },
  {
   "cell_type": "code",
   "execution_count": 34,
   "metadata": {},
   "outputs": [],
   "source": [
    "train = pd.read_csv('data/yt_comments/train.csv')\n",
    "test = pd.read_csv('data/yt_comments/test.csv')"
   ]
  },
  {
   "cell_type": "code",
   "execution_count": 35,
   "metadata": {},
   "outputs": [
    {
     "name": "stdout",
     "output_type": "stream",
     "text": [
      "(9149, 3)\n",
      "(2288, 3)\n"
     ]
    }
   ],
   "source": [
    "print(train.shape)\n",
    "print(test.shape)"
   ]
  },
  {
   "cell_type": "code",
   "execution_count": 114,
   "metadata": {},
   "outputs": [
    {
     "name": "stdout",
     "output_type": "stream",
     "text": [
      "<class 'pandas.core.frame.DataFrame'>\n",
      "RangeIndex: 9149 entries, 0 to 9148\n",
      "Data columns (total 3 columns):\n",
      " #   Column     Non-Null Count  Dtype \n",
      "---  ------     --------------  ----- \n",
      " 0   relevance  9149 non-null   object\n",
      " 1   text       9149 non-null   object\n",
      " 2   polarity   9149 non-null   int64 \n",
      "dtypes: int64(1), object(2)\n",
      "memory usage: 214.6+ KB\n"
     ]
    }
   ],
   "source": [
    "train.info()"
   ]
  },
  {
   "cell_type": "code",
   "execution_count": 115,
   "metadata": {},
   "outputs": [
    {
     "name": "stdout",
     "output_type": "stream",
     "text": [
      "<class 'pandas.core.frame.DataFrame'>\n",
      "RangeIndex: 2288 entries, 0 to 2287\n",
      "Data columns (total 3 columns):\n",
      " #   Column     Non-Null Count  Dtype \n",
      "---  ------     --------------  ----- \n",
      " 0   relevance  2288 non-null   object\n",
      " 1   text       2288 non-null   object\n",
      " 2   polarity   2288 non-null   int64 \n",
      "dtypes: int64(1), object(2)\n",
      "memory usage: 53.8+ KB\n"
     ]
    }
   ],
   "source": [
    "test.info()"
   ]
  },
  {
   "cell_type": "markdown",
   "metadata": {},
   "source": [
    "### **Exploratory Data Analysis (EDA)**"
   ]
  },
  {
   "cell_type": "code",
   "execution_count": 116,
   "metadata": {},
   "outputs": [
    {
     "data": {
      "text/html": [
       "<div>\n",
       "<style scoped>\n",
       "    .dataframe tbody tr th:only-of-type {\n",
       "        vertical-align: middle;\n",
       "    }\n",
       "\n",
       "    .dataframe tbody tr th {\n",
       "        vertical-align: top;\n",
       "    }\n",
       "\n",
       "    .dataframe thead th {\n",
       "        text-align: right;\n",
       "    }\n",
       "</style>\n",
       "<table border=\"1\" class=\"dataframe\">\n",
       "  <thead>\n",
       "    <tr style=\"text-align: right;\">\n",
       "      <th></th>\n",
       "      <th>relevance</th>\n",
       "      <th>text</th>\n",
       "      <th>polarity</th>\n",
       "    </tr>\n",
       "  </thead>\n",
       "  <tbody>\n",
       "    <tr>\n",
       "      <th>0</th>\n",
       "      <td>relevant</td>\n",
       "      <td>im so happy we are making the most meaningful ...</td>\n",
       "      <td>-1</td>\n",
       "    </tr>\n",
       "    <tr>\n",
       "      <th>1</th>\n",
       "      <td>relevant</td>\n",
       "      <td>Programmers created app, like : calculator, no...</td>\n",
       "      <td>-1</td>\n",
       "    </tr>\n",
       "    <tr>\n",
       "      <th>2</th>\n",
       "      <td>relevant</td>\n",
       "      <td>I’m not an artist but now I’m pretty mad at th...</td>\n",
       "      <td>-1</td>\n",
       "    </tr>\n",
       "    <tr>\n",
       "      <th>3</th>\n",
       "      <td>irrelevant</td>\n",
       "      <td>I don&amp;#39;t think this would be possible yet i...</td>\n",
       "      <td>0</td>\n",
       "    </tr>\n",
       "    <tr>\n",
       "      <th>4</th>\n",
       "      <td>relevant</td>\n",
       "      <td>Women choosing to quit jobs and tend to home l...</td>\n",
       "      <td>-1</td>\n",
       "    </tr>\n",
       "  </tbody>\n",
       "</table>\n",
       "</div>"
      ],
      "text/plain": [
       "    relevance                                               text  polarity\n",
       "0    relevant  im so happy we are making the most meaningful ...        -1\n",
       "1    relevant  Programmers created app, like : calculator, no...        -1\n",
       "2    relevant  I’m not an artist but now I’m pretty mad at th...        -1\n",
       "3  irrelevant  I don&#39;t think this would be possible yet i...         0\n",
       "4    relevant  Women choosing to quit jobs and tend to home l...        -1"
      ]
     },
     "execution_count": 116,
     "metadata": {},
     "output_type": "execute_result"
    }
   ],
   "source": [
    "train.head()"
   ]
  },
  {
   "cell_type": "markdown",
   "metadata": {},
   "source": [
    "##### **Comment Distribution grouped by relevance**"
   ]
  },
  {
   "cell_type": "markdown",
   "metadata": {},
   "source": [
    "Here we display the comment distribution grouped by **relevance**"
   ]
  },
  {
   "cell_type": "code",
   "execution_count": 117,
   "metadata": {},
   "outputs": [
    {
     "data": {
      "text/html": [
       "<style type=\"text/css\">\n",
       "#T_0228d_row0_col1 {\n",
       "  background-color: #08306b;\n",
       "  color: #f1f1f1;\n",
       "}\n",
       "#T_0228d_row1_col1 {\n",
       "  background-color: #f7fbff;\n",
       "  color: #000000;\n",
       "}\n",
       "</style>\n",
       "<table id=\"T_0228d\">\n",
       "  <thead>\n",
       "    <tr>\n",
       "      <th class=\"blank level0\" >&nbsp;</th>\n",
       "      <th id=\"T_0228d_level0_col0\" class=\"col_heading level0 col0\" >relevance</th>\n",
       "      <th id=\"T_0228d_level0_col1\" class=\"col_heading level0 col1\" >text</th>\n",
       "    </tr>\n",
       "  </thead>\n",
       "  <tbody>\n",
       "    <tr>\n",
       "      <th id=\"T_0228d_level0_row0\" class=\"row_heading level0 row0\" >1</th>\n",
       "      <td id=\"T_0228d_row0_col0\" class=\"data row0 col0\" >relevant</td>\n",
       "      <td id=\"T_0228d_row0_col1\" class=\"data row0 col1\" >5167</td>\n",
       "    </tr>\n",
       "    <tr>\n",
       "      <th id=\"T_0228d_level0_row1\" class=\"row_heading level0 row1\" >0</th>\n",
       "      <td id=\"T_0228d_row1_col0\" class=\"data row1 col0\" >irrelevant</td>\n",
       "      <td id=\"T_0228d_row1_col1\" class=\"data row1 col1\" >3982</td>\n",
       "    </tr>\n",
       "  </tbody>\n",
       "</table>\n"
      ],
      "text/plain": [
       "<pandas.io.formats.style.Styler at 0x2012f95dd50>"
      ]
     },
     "execution_count": 117,
     "metadata": {},
     "output_type": "execute_result"
    }
   ],
   "source": [
    "temp = train.groupby('relevance').count()['text'].reset_index().sort_values(by='text',ascending=False)\n",
    "temp.style.background_gradient(cmap='Blues')"
   ]
  },
  {
   "cell_type": "code",
   "execution_count": 118,
   "metadata": {},
   "outputs": [
    {
     "data": {
      "text/plain": [
       "<Axes: xlabel='relevance', ylabel='count'>"
      ]
     },
     "execution_count": 118,
     "metadata": {},
     "output_type": "execute_result"
    },
    {
     "data": {
      "image/png": "[encoded data removed]",
      "text/plain": [
       "<Figure size 1200x600 with 1 Axes>"
      ]
     },
     "metadata": {},
     "output_type": "display_data"
    }
   ],
   "source": [
    "import matplotlib.pyplot as plt\n",
    "import seaborn as sns\n",
    "\n",
    "plt.figure(figsize=(12,6))\n",
    "custom_palette = ['#33FF57', '#FF5733']\n",
    "sns.countplot(x='relevance', data=train, palette=custom_palette)"
   ]
  },
  {
   "cell_type": "markdown",
   "metadata": {},
   "source": [
    "We can see that there are more relevant comments than irrelevant"
   ]
  },
  {
   "cell_type": "markdown",
   "metadata": {},
   "source": [
    "##### **Comment Distribution grouped by polarity**"
   ]
  },
  {
   "cell_type": "markdown",
   "metadata": {},
   "source": [
    "Here we display the comment distribution grouped by **polarity**"
   ]
  },
  {
   "cell_type": "code",
   "execution_count": 119,
   "metadata": {},
   "outputs": [
    {
     "data": {
      "text/html": [
       "<style type=\"text/css\">\n",
       "#T_cde5b_row0_col0 {\n",
       "  background-color: #6aaed6;\n",
       "  color: #f1f1f1;\n",
       "}\n",
       "#T_cde5b_row0_col1, #T_cde5b_row2_col0 {\n",
       "  background-color: #08306b;\n",
       "  color: #f1f1f1;\n",
       "}\n",
       "#T_cde5b_row1_col0, #T_cde5b_row2_col1 {\n",
       "  background-color: #f7fbff;\n",
       "  color: #000000;\n",
       "}\n",
       "#T_cde5b_row1_col1 {\n",
       "  background-color: #0c56a0;\n",
       "  color: #f1f1f1;\n",
       "}\n",
       "</style>\n",
       "<table id=\"T_cde5b\">\n",
       "  <thead>\n",
       "    <tr>\n",
       "      <th class=\"blank level0\" >&nbsp;</th>\n",
       "      <th id=\"T_cde5b_level0_col0\" class=\"col_heading level0 col0\" >polarity</th>\n",
       "      <th id=\"T_cde5b_level0_col1\" class=\"col_heading level0 col1\" >text</th>\n",
       "    </tr>\n",
       "  </thead>\n",
       "  <tbody>\n",
       "    <tr>\n",
       "      <th id=\"T_cde5b_level0_row0\" class=\"row_heading level0 row0\" >1</th>\n",
       "      <td id=\"T_cde5b_row0_col0\" class=\"data row0 col0\" >0</td>\n",
       "      <td id=\"T_cde5b_row0_col1\" class=\"data row0 col1\" >4017</td>\n",
       "    </tr>\n",
       "    <tr>\n",
       "      <th id=\"T_cde5b_level0_row1\" class=\"row_heading level0 row1\" >0</th>\n",
       "      <td id=\"T_cde5b_row1_col0\" class=\"data row1 col0\" >-1</td>\n",
       "      <td id=\"T_cde5b_row1_col1\" class=\"data row1 col1\" >3643</td>\n",
       "    </tr>\n",
       "    <tr>\n",
       "      <th id=\"T_cde5b_level0_row2\" class=\"row_heading level0 row2\" >2</th>\n",
       "      <td id=\"T_cde5b_row2_col0\" class=\"data row2 col0\" >1</td>\n",
       "      <td id=\"T_cde5b_row2_col1\" class=\"data row2 col1\" >1489</td>\n",
       "    </tr>\n",
       "  </tbody>\n",
       "</table>\n"
      ],
      "text/plain": [
       "<pandas.io.formats.style.Styler at 0x201314abb20>"
      ]
     },
     "execution_count": 119,
     "metadata": {},
     "output_type": "execute_result"
    }
   ],
   "source": [
    "temp = train.groupby('polarity').count()['text'].reset_index().sort_values(by='text',ascending=False)\n",
    "temp.style.background_gradient(cmap='Blues')"
   ]
  },
  {
   "cell_type": "code",
   "execution_count": 120,
   "metadata": {},
   "outputs": [
    {
     "data": {
      "text/plain": [
       "<Axes: xlabel='polarity', ylabel='count'>"
      ]
     },
     "execution_count": 120,
     "metadata": {},
     "output_type": "execute_result"
    },
    {
     "data": {
      "image/png": "[encoded data removed]",
      "text/plain": [
       "<Figure size 1200x600 with 1 Axes>"
      ]
     },
     "metadata": {},
     "output_type": "display_data"
    }
   ],
   "source": [
    "import matplotlib.pyplot as plt\n",
    "import seaborn as sns\n",
    "\n",
    "plt.figure(figsize=(12,6))\n",
    "custom_palette = ['#FF5733', '#33FF57', '#3366FF']\n",
    "sns.countplot(x='polarity', data=train, palette=custom_palette)"
   ]
  },
  {
   "cell_type": "markdown",
   "metadata": {},
   "source": [
    "**Conclusions from the above experiments:**\n",
    "\n",
    "We can see that there are more than twice as many negative comments as there are positive.\\\n",
    "We can also observe a large number of neutral comments. This is due to the the large number of irrelevant comments which were assigned **NEUTRAL** for the reasons stated above."
   ]
  },
  {
   "cell_type": "markdown",
   "metadata": {},
   "source": [
    "## **Part C: Text Analytics Pipeline**"
   ]
  },
  {
   "cell_type": "markdown",
   "metadata": {},
   "source": [
    "### **Setup**"
   ]
  },
  {
   "cell_type": "markdown",
   "metadata": {},
   "source": [
    "#### Loading the Dataset"
   ]
  },
  {
   "cell_type": "code",
   "execution_count": 5,
   "metadata": {},
   "outputs": [],
   "source": [
    "train = pd.read_csv('data/yt_comments/train.csv')\n",
    "test = pd.read_csv('data/yt_comments/test.csv')"
   ]
  },
  {
   "cell_type": "markdown",
   "metadata": {},
   "source": [
    "#### Balancing the Dataset"
   ]
  },
  {
   "cell_type": "code",
   "execution_count": 6,
   "metadata": {},
   "outputs": [],
   "source": [
    "X_train, X_test, y_train, y_test = train['text'], test['text'], train['polarity'], test['polarity']"
   ]
  },
  {
   "cell_type": "code",
   "execution_count": 7,
   "metadata": {},
   "outputs": [],
   "source": [
    "# Separating out polarity classes\n",
    "negative_class = train[train[\"polarity\"] == -1]\n",
    "neutral_class = train[train[\"polarity\"] == 0]\n",
    "positive_class = train[train[\"polarity\"] == 1]\n",
    "\n",
    "# Size of class with lowest count\n",
    "class_size = min(len(negative_class), len(neutral_class), len(positive_class))\n",
    "\n",
    "# Undersampling\n",
    "negative_class_balanced = negative_class.sample(n=class_size, replace=True, random_state=42)\n",
    "neutral_class_balanced = neutral_class.sample(n=class_size, replace=True, random_state=42)\n",
    "positive_class_balanced = positive_class.sample(n=class_size, replace=True, random_state=42)\n",
    "\n",
    "# Combining the three separate classes after undersampling\n",
    "train_balanced = pd.concat([negative_class_balanced, neutral_class_balanced, positive_class_balanced])\n",
    "\n",
    "# Reshuffling the balanced train set\n",
    "train_balanced = train_balanced.sample(frac=1, random_state=42).reset_index(drop=True)\n",
    "\n",
    "X_train_balanced = train_balanced[\"text\"]\n",
    "y_train_balanced = train_balanced[\"polarity\"]"
   ]
  },
  {
   "cell_type": "markdown",
   "metadata": {},
   "source": [
    "#### Visualizing balanced train set"
   ]
  },
  {
   "cell_type": "code",
   "execution_count": 8,
   "metadata": {},
   "outputs": [
    {
     "data": {
      "text/html": [
       "<style type=\"text/css\">\n",
       "#T_49ee1_row0_col0, #T_49ee1_row0_col1, #T_49ee1_row1_col1, #T_49ee1_row2_col1 {\n",
       "  background-color: #f7fbff;\n",
       "  color: #000000;\n",
       "}\n",
       "#T_49ee1_row1_col0 {\n",
       "  background-color: #6aaed6;\n",
       "  color: #f1f1f1;\n",
       "}\n",
       "#T_49ee1_row2_col0 {\n",
       "  background-color: #08306b;\n",
       "  color: #f1f1f1;\n",
       "}\n",
       "</style>\n",
       "<table id=\"T_49ee1\">\n",
       "  <thead>\n",
       "    <tr>\n",
       "      <th class=\"blank level0\" >&nbsp;</th>\n",
       "      <th id=\"T_49ee1_level0_col0\" class=\"col_heading level0 col0\" >polarity</th>\n",
       "      <th id=\"T_49ee1_level0_col1\" class=\"col_heading level0 col1\" >text</th>\n",
       "    </tr>\n",
       "  </thead>\n",
       "  <tbody>\n",
       "    <tr>\n",
       "      <th id=\"T_49ee1_level0_row0\" class=\"row_heading level0 row0\" >0</th>\n",
       "      <td id=\"T_49ee1_row0_col0\" class=\"data row0 col0\" >-1</td>\n",
       "      <td id=\"T_49ee1_row0_col1\" class=\"data row0 col1\" >1489</td>\n",
       "    </tr>\n",
       "    <tr>\n",
       "      <th id=\"T_49ee1_level0_row1\" class=\"row_heading level0 row1\" >1</th>\n",
       "      <td id=\"T_49ee1_row1_col0\" class=\"data row1 col0\" >0</td>\n",
       "      <td id=\"T_49ee1_row1_col1\" class=\"data row1 col1\" >1489</td>\n",
       "    </tr>\n",
       "    <tr>\n",
       "      <th id=\"T_49ee1_level0_row2\" class=\"row_heading level0 row2\" >2</th>\n",
       "      <td id=\"T_49ee1_row2_col0\" class=\"data row2 col0\" >1</td>\n",
       "      <td id=\"T_49ee1_row2_col1\" class=\"data row2 col1\" >1489</td>\n",
       "    </tr>\n",
       "  </tbody>\n",
       "</table>\n"
      ],
      "text/plain": [
       "<pandas.io.formats.style.Styler at 0x2013ecb82e0>"
      ]
     },
     "execution_count": 124,
     "metadata": {},
     "output_type": "execute_result"
    }
   ],
   "source": [
    "temp = train_balanced.groupby('polarity').count()['text'].reset_index().sort_values(by='text',ascending=False)\n",
    "temp.style.background_gradient(cmap='Blues')"
   ]
  },
  {
   "cell_type": "code",
   "execution_count": 125,
   "metadata": {},
   "outputs": [
    {
     "data": {
      "text/plain": [
       "<Axes: xlabel='polarity', ylabel='count'>"
      ]
     },
     "execution_count": 125,
     "metadata": {},
     "output_type": "execute_result"
    },
    {
     "data": {
      "image/png": "[encoded data removed]",
      "text/plain": [
       "<Figure size 1200x600 with 1 Axes>"
      ]
     },
     "metadata": {},
     "output_type": "display_data"
    }
   ],
   "source": [
    "plt.figure(figsize=(12,6))\n",
    "custom_palette = ['#FF5733', '#33FF57', '#3366FF']\n",
    "sns.countplot(x='polarity', data=train_balanced, palette=custom_palette)"
   ]
  },
  {
   "cell_type": "markdown",
   "metadata": {},
   "source": [
    "#### Converting train-test split from dataframe to list"
   ]
  },
  {
   "cell_type": "code",
   "execution_count": 131,
   "metadata": {},
   "outputs": [],
   "source": [
    "X_train_balanced_list, y_train_balanced_list, X_test_list, y_test_list = X_train_balanced.tolist(), y_train_balanced.tolist(), X_test.tolist(), y_test.tolist()"
   ]
  },
  {
   "cell_type": "markdown",
   "metadata": {},
   "source": [
    "### **Helper Functions**"
   ]
  },
  {
   "cell_type": "markdown",
   "metadata": {},
   "source": [
    "## Data preprocessing\n",
    "\n",
    "**As part of Text Processing, we perform Tokenization, Normalization (convert words to lower case), have Stop-word removal, and perform lemmatization and stemming below.**"
   ]
  },
  {
   "cell_type": "markdown",
   "metadata": {},
   "source": [
    "##### Cleaning the text"
   ]
  },
  {
   "cell_type": "code",
   "execution_count": 134,
   "metadata": {},
   "outputs": [],
   "source": [
    "EMOJI_PATTERN = re.compile(\n",
    "    \"([\"\n",
    "    \"\\U0001F1E0-\\U0001F1FF\"  # flags (iOS)\n",
    "    \"\\U0001F300-\\U0001F5FF\"  # symbols & pictographs\n",
    "    \"\\U0001F600-\\U0001F64F\"  # emoticons\n",
    "    \"\\U0001F680-\\U0001F6FF\"  # transport & map symbols\n",
    "    \"\\U0001F700-\\U0001F77F\"  # alchemical symbols\n",
    "    \"\\U0001F780-\\U0001F7FF\"  # Geometric Shapes Extended\n",
    "    \"\\U0001F800-\\U0001F8FF\"  # Supplemental Arrows-C\n",
    "    \"\\U0001F900-\\U0001F9FF\"  # Supplemental Symbols and Pictographs\n",
    "    \"\\U0001FA00-\\U0001FA6F\"  # Chess Symbols\n",
    "    \"\\U0001FA70-\\U0001FAFF\"  # Symbols and Pictographs Extended-A\n",
    "    \"\\U00002702-\\U000027B0\"  # Dingbats\n",
    "    \"])\"\n",
    "  )\n",
    "\n",
    "def clean_text(text):\n",
    "    text_no_html = re.sub(r'<[^>]+>', ' ', text)\n",
    "    text_no_links = re.sub(r'http\\S+', '', text_no_html)\n",
    "    text_no_timestamps = re.sub(r'\\d{1,2}:\\d{2}', '', text_no_links)\n",
    "    text_no_emoji = re.sub(EMOJI_PATTERN, '', text_no_timestamps)\n",
    "    replace_single_quotes = re.sub(r'&#39;', '\\'', text_no_emoji)\n",
    "    replace_double_quotes = re.sub(r'&quot;', '\\\"', replace_single_quotes)\n",
    "    remove_mentions = re.sub(r'@\\S*', '', replace_double_quotes)\n",
    "    remove_whitespace = re.sub(r'\\s+', ' ', remove_mentions)\n",
    "    return remove_whitespace "
   ]
  },
  {
   "cell_type": "code",
   "execution_count": 135,
   "metadata": {},
   "outputs": [
    {
     "data": {
      "text/plain": [
       "'Everything puts out is QUALITY. Investigative Journalism with integrity keep on my friend! '"
      ]
     },
     "execution_count": 135,
     "metadata": {},
     "output_type": "execute_result"
    }
   ],
   "source": [
    "clean_text(\"Everything @JohnStossel puts out is QUALITY. Investigative Journalism with integrity keep on my friend!\\n\")"
   ]
  },
  {
   "cell_type": "markdown",
   "metadata": {},
   "source": [
    "##### Lemmatizing and stemming"
   ]
  },
  {
   "cell_type": "code",
   "execution_count": 136,
   "metadata": {},
   "outputs": [],
   "source": [
    "en_nlp = spacy.load(\"en_core_web_sm\")\n",
    "\n",
    "def tokenize_text(text):\n",
    "    doc = en_nlp(text)\n",
    "    # Turn it into tokens, ignoring the punctuation\n",
    "    return [token for token in doc if not token.is_punct]"
   ]
  },
  {
   "cell_type": "code",
   "execution_count": 137,
   "metadata": {},
   "outputs": [
    {
     "data": {
      "text/plain": [
       "[Everything,\n",
       " puts,\n",
       " out,\n",
       " is,\n",
       " QUALITY,\n",
       " Investigative,\n",
       " Journalism,\n",
       " with,\n",
       " integrity,\n",
       " keep,\n",
       " on,\n",
       " my,\n",
       " friend]"
      ]
     },
     "execution_count": 137,
     "metadata": {},
     "output_type": "execute_result"
    }
   ],
   "source": [
    "tokenize_text('Everything puts out is QUALITY. Investigative Journalism with integrity keep on my friend! ')"
   ]
  },
  {
   "cell_type": "code",
   "execution_count": 138,
   "metadata": {},
   "outputs": [
    {
     "name": "stderr",
     "output_type": "stream",
     "text": [
      "[nltk_data] Downloading package stopwords to\n",
      "[nltk_data]     /Users/neilpatrao/nltk_data...\n",
      "[nltk_data]   Package stopwords is already up-to-date!\n"
     ]
    }
   ],
   "source": [
    "# defining stop words\n",
    "nltk.download('stopwords')\n",
    "stop_words = set(stopwords.words('english'))"
   ]
  },
  {
   "cell_type": "code",
   "execution_count": 139,
   "metadata": {},
   "outputs": [],
   "source": [
    "# define function that lemmatize using spacy\n",
    "def lemmatize_spacy(text):\n",
    "    cleaned_text = clean_text(text)\n",
    "    # Convert those tokens into lemmas, EXCEPT the pronouns.\n",
    "    tokens = [token.lemma_ if token.pos_ != 'PRON' else token.orth_ for token in tokenize_text(cleaned_text)]\n",
    "    # remove stop words with NLTK and convert to lower case\n",
    "    return [token.lower() for token in tokens if not token.lower() in stop_words]"
   ]
  },
  {
   "cell_type": "code",
   "execution_count": 140,
   "metadata": {},
   "outputs": [
    {
     "data": {
      "text/plain": [
       "['feel', 'like', 'anything', 'eat']"
      ]
     },
     "execution_count": 140,
     "metadata": {},
     "output_type": "execute_result"
    }
   ],
   "source": [
    "lemmatize_spacy(\"I don't feel like having anything to eat!\")"
   ]
  },
  {
   "cell_type": "code",
   "execution_count": 141,
   "metadata": {},
   "outputs": [],
   "source": [
    "def lemmatize_nltk(text):\n",
    "    cleaned_text = clean_text(text)\n",
    "    lemmatizer = WordNetLemmatizer()\n",
    "    tokens = [lemmatizer.lemmatize(w.norm_) for w in tokenize_text(cleaned_text)]\n",
    "    # remove stop words with NLTK and convert to lower case\n",
    "    return [token.lower() for token in tokens if not token.lower() in stop_words]"
   ]
  },
  {
   "cell_type": "code",
   "execution_count": 142,
   "metadata": {},
   "outputs": [
    {
     "data": {
      "text/plain": [
       "['feel', 'like', 'anything', 'eat']"
      ]
     },
     "execution_count": 142,
     "metadata": {},
     "output_type": "execute_result"
    }
   ],
   "source": [
    "lemmatize_nltk(\"I don't feel like having ANYTHING to eat!\")"
   ]
  },
  {
   "cell_type": "code",
   "execution_count": 143,
   "metadata": {},
   "outputs": [],
   "source": [
    "def stemmer_nltk(text):\n",
    "    cleaned_text = clean_text(text)\n",
    "    stemmer = nltk.PorterStemmer()\n",
    "    tokens = [stemmer.stem(w.norm_) for w in tokenize_text(cleaned_text)]\n",
    "    # remove stop words with NLTK and convert to lower case\n",
    "    return [token.lower() for token in tokens if not token.lower() in stop_words]"
   ]
  },
  {
   "cell_type": "code",
   "execution_count": 144,
   "metadata": {},
   "outputs": [
    {
     "data": {
      "text/plain": [
       "['feel', 'like', 'anyth', 'eat']"
      ]
     },
     "execution_count": 144,
     "metadata": {},
     "output_type": "execute_result"
    }
   ],
   "source": [
    "stemmer_nltk(\"I don't feel like having anything to eat!\")"
   ]
  },
  {
   "cell_type": "markdown",
   "metadata": {},
   "source": [
    "##### Creating a custom transformer class for data preprocessing"
   ]
  },
  {
   "cell_type": "code",
   "execution_count": 145,
   "metadata": {},
   "outputs": [],
   "source": [
    "class TextProcessor(BaseEstimator, TransformerMixin):\n",
    "    def __init__(self, text_processor=\"lemmatize_nltk\"):\n",
    "        self.text_processor = text_processor\n",
    "\n",
    "    def fit(self, X, y=None):\n",
    "        return self\n",
    "\n",
    "    def transform(self, X): \n",
    "        processed_texts = []\n",
    "        for text in X:\n",
    "            match self.text_processor:\n",
    "                case \"lemmatize_spacy\":\n",
    "                    token_list = lemmatize_spacy(text)\n",
    "                case \"lemmatize_nltk\":\n",
    "                    token_list = lemmatize_nltk(text)\n",
    "                case \"stemmer_nltk\":\n",
    "                    token_list = stemmer_nltk(text)\n",
    "                case _:\n",
    "                    raise Exception(\"Invalid or no text processor provided\")\n",
    "            processed_texts.append(token_list)\n",
    "        return processed_texts"
   ]
  },
  {
   "cell_type": "code",
   "execution_count": 146,
   "metadata": {},
   "outputs": [],
   "source": [
    "text_processor_lemma = TextProcessor('lemmatize_spacy')\n",
    "processed_texts = text_processor_lemma.fit_transform([\"Everything @JohnStossel puts out is QUALITY. Investigative Journalism with integrity keep on my friend!\", \"I don't feel like having anything to eat!\"])"
   ]
  },
  {
   "cell_type": "code",
   "execution_count": 147,
   "metadata": {},
   "outputs": [
    {
     "data": {
      "text/plain": [
       "[['everything',\n",
       "  'put',\n",
       "  'quality',\n",
       "  'investigative',\n",
       "  'journalism',\n",
       "  'integrity',\n",
       "  'keep',\n",
       "  'friend'],\n",
       " ['feel', 'like', 'anything', 'eat']]"
      ]
     },
     "execution_count": 147,
     "metadata": {},
     "output_type": "execute_result"
    }
   ],
   "source": [
    "processed_texts"
   ]
  },
  {
   "cell_type": "code",
   "execution_count": 106,
   "metadata": {},
   "outputs": [],
   "source": [
    "processed_X_test = TextProcessor().fit_transform(X_test_list)"
   ]
  },
  {
   "cell_type": "markdown",
   "metadata": {},
   "source": [
    "#### **Representation and Feature Extraction**"
   ]
  },
  {
   "cell_type": "markdown",
   "metadata": {},
   "source": [
    "##### Create custom transformer class for vectorization-Word2Vec"
   ]
  },
  {
   "cell_type": "code",
   "execution_count": 149,
   "metadata": {},
   "outputs": [],
   "source": [
    "class Word2VecVectorizer(BaseEstimator, TransformerMixin):\n",
    "    def __init__(self, processed_X_test=[], vector_size=300, window=5, min_count=1):\n",
    "        self.processed_X_test = processed_X_test\n",
    "        self.vector_size = vector_size\n",
    "        self.window = window\n",
    "        self.min_count = min_count\n",
    "        self.model_w2v = None\n",
    "\n",
    "    def fit(self, X, y=None):\n",
    "        file_path = \"word2vec_model.bin\"\n",
    "        \n",
    "        if os.path.exists(file_path):\n",
    "            print(f\"The file '{file_path}' exists.\")\n",
    "            # Load the Word2Vec model from the file\n",
    "            self.model_w2v = Word2Vec.load(file_path)\n",
    "        else:\n",
    "            print(f\"The file '{file_path}' does not exist.\")\n",
    "            # Train the Word2Vec model\n",
    "            self.model_w2v = Word2Vec(X+self.processed_X_test, vector_size=self.vector_size, window=self.window, min_count=self.min_count)\n",
    "            # Save the model to the file\n",
    "            self.model_w2v.save(file_path)\n",
    "        return self\n",
    "\n",
    "    def transform(self, X):\n",
    "        return [[0] * self.vector_size if not sentence else sum(self.model_w2v.wv[word] for word in sentence) / len(sentence) for sentence in X]"
   ]
  },
  {
   "cell_type": "markdown",
   "metadata": {},
   "source": [
    "##### Visualising Word Embeddings\n",
    "\n",
    "https://radimrehurek.com/gensim/auto_examples/tutorials/run_word2vec.html"
   ]
  },
  {
   "cell_type": "code",
   "execution_count": 150,
   "metadata": {},
   "outputs": [],
   "source": [
    "def reduce_dimensions(model):\n",
    "    num_dimensions = 2  # final num dimensions (2D, 3D, etc)\n",
    "\n",
    "    # extract the words & their vectors, as numpy arrays\n",
    "    vectors = np.asarray(model.wv.vectors)\n",
    "    labels = np.asarray(model.wv.index_to_key)  # fixed-width numpy strings\n",
    "\n",
    "    # reduce using t-SNE\n",
    "    tsne = TSNE(n_components=num_dimensions, random_state=0)\n",
    "    vectors = tsne.fit_transform(vectors)\n",
    "\n",
    "    x_vals = [v[0] for v in vectors]\n",
    "    y_vals = [v[1] for v in vectors]\n",
    "    return x_vals, y_vals, labels\n",
    "\n",
    "def plot_with_matplotlib(x_vals, y_vals, labels):\n",
    "    random.seed(0)\n",
    "\n",
    "    plt.figure(figsize=(8, 8))\n",
    "    plt.scatter(x_vals, y_vals, s=10)\n",
    "\n",
    "    #\n",
    "    # Label randomly subsampled 25 data points\n",
    "    #\n",
    "    indices = list(range(len(labels)))\n",
    "    selected_indices = random.sample(indices, 25)\n",
    "    for i in selected_indices:\n",
    "        plt.annotate(labels[i], (x_vals[i], y_vals[i]))\n",
    "\n",
    "def visualize_embeddings():\n",
    "    model = Word2Vec.load(\"word2vec_model.bin\")\n",
    "    x_vals, y_vals, labels = reduce_dimensions(model)\n",
    "    plot_with_matplotlib(x_vals, y_vals, labels)"
   ]
  },
  {
   "cell_type": "code",
   "execution_count": 153,
   "metadata": {},
   "outputs": [
    {
     "data": {
      "image/png": "[encoded data removed]",
      "text/plain": [
       "<Figure size 800x800 with 1 Axes>"
      ]
     },
     "metadata": {},
     "output_type": "display_data"
    }
   ],
   "source": [
    "visualize_embeddings()"
   ]
  },
  {
   "cell_type": "markdown",
   "metadata": {},
   "source": [
    "#### **Pipeline Creation**"
   ]
  },
  {
   "cell_type": "code",
   "execution_count": 35,
   "metadata": {},
   "outputs": [],
   "source": [
    "def create_pipelines(names_list: list, step_list: list, classifier_list: list):\n",
    "    steps = list(zip(names_list, step_list))\n",
    "    # Create models for different types of classifiers\n",
    "    models = []\n",
    "    \n",
    "    for classifier in classifier_list:\n",
    "        model = steps.copy()\n",
    "        model.append(('classifier', classifier))\n",
    "        \n",
    "        models.append(Pipeline(model))\n",
    "    return models"
   ]
  },
  {
   "cell_type": "markdown",
   "metadata": {},
   "source": [
    "#### **Evaluation**"
   ]
  },
  {
   "cell_type": "code",
   "execution_count": 11,
   "metadata": {},
   "outputs": [],
   "source": [
    "# Displays the classification report\n",
    "def display_cf_report(y_true, y_pred):\n",
    "  cf_report = classification_report(y_true, y_pred)\n",
    "  print(\"\\nClassification Report:\\n\", cf_report)"
   ]
  },
  {
   "cell_type": "markdown",
   "metadata": {},
   "source": [
    "Evaluation metrics function \\\n",
    "https://www.kaggle.com/code/jeffd23/10-classifier-showdown-in-scikit-learn"
   ]
  },
  {
   "cell_type": "code",
   "execution_count": 98,
   "metadata": {},
   "outputs": [],
   "source": [
    "def compare_metrics_graph(log_df):\n",
    "    sns.set_color_codes(\"muted\")\n",
    "    sns.barplot(x='Test Accuracy', y='Classifier', data=log_df, color=\"b\")\n",
    "\n",
    "    plt.xlabel('Test Accuracy %')\n",
    "    plt.title('Classifier Accuracy')\n",
    "    plt.show()"
   ]
  },
  {
   "cell_type": "code",
   "execution_count": 95,
   "metadata": {},
   "outputs": [],
   "source": [
    "def plot_confusion_matrices(models, X_test, y_test, class_labels):\n",
    "    fig, axes = plt.subplots(nrows=2, ncols=4, figsize=(15,10))\n",
    "    \n",
    "    for model, ax in zip(models, axes.flatten()):\n",
    "        ConfusionMatrixDisplay.from_estimator(model, \n",
    "                          X_test, \n",
    "                          y_test, \n",
    "                          ax=ax, \n",
    "                          cmap='Blues',\n",
    "                         display_labels=class_labels)\n",
    "        ax.title.set_text(model.named_steps['classifier'].__class__.__name__)\n",
    "    plt.tight_layout()\n",
    "    plt.show()"
   ]
  },
  {
   "cell_type": "code",
   "execution_count": 108,
   "metadata": {},
   "outputs": [],
   "source": [
    "def evaluate_classifiers(models, X_train, y_train, X_test, y_test):\n",
    "    log_cols=[\"Classifier\", \"Test Accuracy\"]\n",
    "    log = pd.DataFrame(columns=log_cols)\n",
    "\n",
    "    for model in models:\n",
    "        model_name = model.named_steps['classifier'].__class__.__name__\n",
    "        model.fit(X_train, y_train)\n",
    "\n",
    "        print(f\"Results for {model_name} model:\\n\")\n",
    "\n",
    "        print(f\"Model: {model}\\n\")\n",
    "\n",
    "        y_pred_train = model.predict(X_train)\n",
    "        score_train = accuracy_score(y_train, y_pred_train)\n",
    "        print(f\"Accuracy on train set: {score_train:0.3f}\")\n",
    "        \n",
    "        y_pred_test = model.predict(X_test)\n",
    "        score_test = accuracy_score(y_test, y_pred_test)\n",
    "        print(f\"Accuracy on test set: {score_test:0.3f}\")\n",
    "\n",
    "        display_cf_report(y_test, y_pred_test)\n",
    "    \n",
    "        log_entry = pd.DataFrame([[model.named_steps['classifier'].__class__.__name__, score_test*100]], columns=log_cols)\n",
    "        log = pd.concat([log, log_entry])\n",
    "\n",
    "    class_labels = [\"Negative\", \"Neutral\", \"Positive\"]\n",
    "\n",
    "    plot_confusion_matrices(models, X_test, y_test, class_labels)\n",
    "    \n",
    "    compare_metrics_graph(log)"
   ]
  },
  {
   "cell_type": "markdown",
   "metadata": {},
   "source": [
    "### **Models**"
   ]
  },
  {
   "cell_type": "markdown",
   "metadata": {},
   "source": [
    "#### **Count Vectorizer Models**"
   ]
  },
  {
   "cell_type": "code",
   "execution_count": 109,
   "metadata": {},
   "outputs": [],
   "source": [
    "name_list1 = ['count_vectorizer']\n",
    "step_list1 = [CountVectorizer(tokenizer= lemmatize_spacy,min_df=5)]\n",
    "classifier_list1 = [LogisticRegression(), SVC(), MultinomialNB(), SGDClassifier(), KNeighborsClassifier(), DecisionTreeClassifier(), RandomForestClassifier()]\n",
    "models1 = create_pipelines(name_list1, step_list1, classifier_list1)"
   ]
  },
  {
   "cell_type": "code",
   "execution_count": 110,
   "metadata": {},
   "outputs": [
    {
     "name": "stdout",
     "output_type": "stream",
     "text": [
      "Results for LogisticRegression model:\n",
      "\n",
      "Model: Pipeline(steps=[('count_vectorizer',\n",
      "                 CountVectorizer(min_df=5,\n",
      "                                 tokenizer=<function lemmatize_spacy at 0x2868bbce0>)),\n",
      "                ('classifier', LogisticRegression())])\n",
      "\n",
      "Accuracy on train set: 0.500\n",
      "Accuracy on test set: 0.200\n",
      "\n",
      "Classification Report:\n",
      "               precision    recall  f1-score   support\n",
      "\n",
      "          -1       0.20      1.00      0.33         2\n",
      "           0       0.00      0.00      0.00         6\n",
      "           1       0.00      0.00      0.00         2\n",
      "\n",
      "    accuracy                           0.20        10\n",
      "   macro avg       0.07      0.33      0.11        10\n",
      "weighted avg       0.04      0.20      0.07        10\n",
      "\n",
      "Results for SVC model:\n",
      "\n",
      "Model: Pipeline(steps=[('count_vectorizer',\n",
      "                 CountVectorizer(min_df=5,\n",
      "                                 tokenizer=<function lemmatize_spacy at 0x2868bbce0>)),\n",
      "                ('classifier', SVC())])\n",
      "\n",
      "Accuracy on train set: 0.500\n",
      "Accuracy on test set: 0.200\n",
      "\n",
      "Classification Report:\n",
      "               precision    recall  f1-score   support\n",
      "\n",
      "          -1       0.20      1.00      0.33         2\n",
      "           0       0.00      0.00      0.00         6\n",
      "           1       0.00      0.00      0.00         2\n",
      "\n",
      "    accuracy                           0.20        10\n",
      "   macro avg       0.07      0.33      0.11        10\n",
      "weighted avg       0.04      0.20      0.07        10\n",
      "\n",
      "Results for MultinomialNB model:\n",
      "\n",
      "Model: Pipeline(steps=[('count_vectorizer',\n",
      "                 CountVectorizer(min_df=5,\n",
      "                                 tokenizer=<function lemmatize_spacy at 0x2868bbce0>)),\n",
      "                ('classifier', MultinomialNB())])\n",
      "\n",
      "Accuracy on train set: 0.500\n",
      "Accuracy on test set: 0.200\n",
      "\n",
      "Classification Report:\n",
      "               precision    recall  f1-score   support\n",
      "\n",
      "          -1       0.20      1.00      0.33         2\n",
      "           0       0.00      0.00      0.00         6\n",
      "           1       0.00      0.00      0.00         2\n",
      "\n",
      "    accuracy                           0.20        10\n",
      "   macro avg       0.07      0.33      0.11        10\n",
      "weighted avg       0.04      0.20      0.07        10\n",
      "\n",
      "Results for SGDClassifier model:\n",
      "\n",
      "Model: Pipeline(steps=[('count_vectorizer',\n",
      "                 CountVectorizer(min_df=5,\n",
      "                                 tokenizer=<function lemmatize_spacy at 0x2868bbce0>)),\n",
      "                ('classifier', SGDClassifier())])\n",
      "\n",
      "Accuracy on train set: 0.400\n",
      "Accuracy on test set: 0.200\n",
      "\n",
      "Classification Report:\n",
      "               precision    recall  f1-score   support\n",
      "\n",
      "          -1       0.20      1.00      0.33         2\n",
      "           0       0.00      0.00      0.00         6\n",
      "           1       0.00      0.00      0.00         2\n",
      "\n",
      "    accuracy                           0.20        10\n",
      "   macro avg       0.07      0.33      0.11        10\n",
      "weighted avg       0.04      0.20      0.07        10\n",
      "\n",
      "Results for KNeighborsClassifier model:\n",
      "\n",
      "Model: Pipeline(steps=[('count_vectorizer',\n",
      "                 CountVectorizer(min_df=5,\n",
      "                                 tokenizer=<function lemmatize_spacy at 0x2868bbce0>)),\n",
      "                ('classifier', KNeighborsClassifier())])\n",
      "\n",
      "Accuracy on train set: 0.500\n",
      "Accuracy on test set: 0.200\n",
      "\n",
      "Classification Report:\n",
      "               precision    recall  f1-score   support\n",
      "\n",
      "          -1       0.20      1.00      0.33         2\n",
      "           0       0.00      0.00      0.00         6\n",
      "           1       0.00      0.00      0.00         2\n",
      "\n",
      "    accuracy                           0.20        10\n",
      "   macro avg       0.07      0.33      0.11        10\n",
      "weighted avg       0.04      0.20      0.07        10\n",
      "\n",
      "Results for DecisionTreeClassifier model:\n",
      "\n",
      "Model: Pipeline(steps=[('count_vectorizer',\n",
      "                 CountVectorizer(min_df=5,\n",
      "                                 tokenizer=<function lemmatize_spacy at 0x2868bbce0>)),\n",
      "                ('classifier', DecisionTreeClassifier())])\n",
      "\n",
      "Accuracy on train set: 0.500\n",
      "Accuracy on test set: 0.200\n",
      "\n",
      "Classification Report:\n",
      "               precision    recall  f1-score   support\n",
      "\n",
      "          -1       0.20      1.00      0.33         2\n",
      "           0       0.00      0.00      0.00         6\n",
      "           1       0.00      0.00      0.00         2\n",
      "\n",
      "    accuracy                           0.20        10\n",
      "   macro avg       0.07      0.33      0.11        10\n",
      "weighted avg       0.04      0.20      0.07        10\n",
      "\n",
      "Results for RandomForestClassifier model:\n",
      "\n",
      "Model: Pipeline(steps=[('count_vectorizer',\n",
      "                 CountVectorizer(min_df=5,\n",
      "                                 tokenizer=<function lemmatize_spacy at 0x2868bbce0>)),\n",
      "                ('classifier', RandomForestClassifier())])\n",
      "\n",
      "Accuracy on train set: 0.500\n",
      "Accuracy on test set: 0.200\n",
      "\n",
      "Classification Report:\n",
      "               precision    recall  f1-score   support\n",
      "\n",
      "          -1       0.20      1.00      0.33         2\n",
      "           0       0.00      0.00      0.00         6\n",
      "           1       0.00      0.00      0.00         2\n",
      "\n",
      "    accuracy                           0.20        10\n",
      "   macro avg       0.07      0.33      0.11        10\n",
      "weighted avg       0.04      0.20      0.07        10\n",
      "\n"
     ]
    },
    {
     "data": {
      "image/png": "[encoded data removed]",
      "text/plain": [
       "<Figure size 1500x1000 with 15 Axes>"
      ]
     },
     "metadata": {},
     "output_type": "display_data"
    },
    {
     "data": {
      "image/png": "[encoded data removed]",
      "text/plain": [
       "<Figure size 640x480 with 1 Axes>"
      ]
     },
     "metadata": {},
     "output_type": "display_data"
    }
   ],
   "source": [
    "evaluate_classifiers(models1, X_train_balanced_list, y_train_balanced_list, X_test_list, y_test_list)"
   ]
  },
  {
   "cell_type": "markdown",
   "metadata": {},
   "source": [
    "### **Text Processor + Word2Vec Vectorizer Models**"
   ]
  },
  {
   "cell_type": "code",
   "execution_count": 72,
   "metadata": {},
   "outputs": [],
   "source": [
    "name_list2 = ['text_processor', 'w2v_vectorizer']\n",
    "step_list2 = [TextProcessor(), Word2VecVectorizer(processed_X_test)]\n",
    "classifier_list2 = [LogisticRegression(), SVC(), GaussianNB(), SGDClassifier(), KNeighborsClassifier(), DecisionTreeClassifier(), RandomForestClassifier()]\n",
    "models2 = create_pipelines(name_list2, step_list2, classifier_list2)"
   ]
  },
  {
   "cell_type": "code",
   "execution_count": 73,
   "metadata": {},
   "outputs": [
    {
     "name": "stdout",
     "output_type": "stream",
     "text": [
      "The file 'word2vec_model.bin' exists.\n",
      "Accuracy of Pipeline(steps=[('text_processor', TextProcessor()),\n",
      "                ('w2v_vectorizer',\n",
      "                 Word2VecVectorizer(processed_X_test=[[' ', 'actually', 'felt',\n",
      "                                                       'better', 'film',\n",
      "                                                       'cry'],\n",
      "                                                      ['corporation', 'create',\n",
      "                                                       'database', 'like',\n",
      "                                                       'address', 'book',\n",
      "                                                       'scrapping', 'data',\n",
      "                                                       'corporation', 'owns',\n",
      "                                                       'copyright', 'human',\n",
      "                                                       'authorship'],\n",
      "                                                      ['irony', 'terraforming',\n",
      "                                                       'mar', 'wa',\n",
      "                                                       'struggling', 'pirated',\n",
      "                                                       'copy', '...\n",
      "                                                       'machine', 'made',\n",
      "                                                       'profit', 'made',\n",
      "                                                       'artist', 'made', 'mass',\n",
      "                                                       'consumption', \"'s\",\n",
      "                                                       'price', 'dirt', 'cheap',\n",
      "                                                       'one', 'person', 'ai',\n",
      "                                                       'field', 'said', 'ai',\n",
      "                                                       'replacing', 'artist',\n",
      "                                                       'mere', ...],\n",
      "                                                      [' ', 'opinion',\n",
      "                                                       'important', 'point',\n",
      "                                                       'video', 'ai', 'mimic',\n",
      "                                                       'people', 'internet',\n",
      "                                                       'think', 'right',\n",
      "                                                       'likely', 'get', 'liked',\n",
      "                                                       'answer', 'never',\n",
      "                                                       'best', 'answer'], ...])),\n",
      "                ('classifier', LogisticRegression())]) with train dataset is: 0.559\n",
      "Accuracy of Pipeline(steps=[('text_processor', TextProcessor()),\n",
      "                ('w2v_vectorizer',\n",
      "                 Word2VecVectorizer(processed_X_test=[[' ', 'actually', 'felt',\n",
      "                                                       'better', 'film',\n",
      "                                                       'cry'],\n",
      "                                                      ['corporation', 'create',\n",
      "                                                       'database', 'like',\n",
      "                                                       'address', 'book',\n",
      "                                                       'scrapping', 'data',\n",
      "                                                       'corporation', 'owns',\n",
      "                                                       'copyright', 'human',\n",
      "                                                       'authorship'],\n",
      "                                                      ['irony', 'terraforming',\n",
      "                                                       'mar', 'wa',\n",
      "                                                       'struggling', 'pirated',\n",
      "                                                       'copy', '...\n",
      "                                                       'machine', 'made',\n",
      "                                                       'profit', 'made',\n",
      "                                                       'artist', 'made', 'mass',\n",
      "                                                       'consumption', \"'s\",\n",
      "                                                       'price', 'dirt', 'cheap',\n",
      "                                                       'one', 'person', 'ai',\n",
      "                                                       'field', 'said', 'ai',\n",
      "                                                       'replacing', 'artist',\n",
      "                                                       'mere', ...],\n",
      "                                                      [' ', 'opinion',\n",
      "                                                       'important', 'point',\n",
      "                                                       'video', 'ai', 'mimic',\n",
      "                                                       'people', 'internet',\n",
      "                                                       'think', 'right',\n",
      "                                                       'likely', 'get', 'liked',\n",
      "                                                       'answer', 'never',\n",
      "                                                       'best', 'answer'], ...])),\n",
      "                ('classifier', LogisticRegression())]) with test dataset is: 0.593\n",
      "The file 'word2vec_model.bin' exists.\n",
      "Accuracy of Pipeline(steps=[('text_processor', TextProcessor()),\n",
      "                ('w2v_vectorizer',\n",
      "                 Word2VecVectorizer(processed_X_test=[[' ', 'actually', 'felt',\n",
      "                                                       'better', 'film',\n",
      "                                                       'cry'],\n",
      "                                                      ['corporation', 'create',\n",
      "                                                       'database', 'like',\n",
      "                                                       'address', 'book',\n",
      "                                                       'scrapping', 'data',\n",
      "                                                       'corporation', 'owns',\n",
      "                                                       'copyright', 'human',\n",
      "                                                       'authorship'],\n",
      "                                                      ['irony', 'terraforming',\n",
      "                                                       'mar', 'wa',\n",
      "                                                       'struggling', 'pirated',\n",
      "                                                       'copy', '...\n",
      "                                                       'thing', 'learning',\n",
      "                                                       'machine', 'made',\n",
      "                                                       'profit', 'made',\n",
      "                                                       'artist', 'made', 'mass',\n",
      "                                                       'consumption', \"'s\",\n",
      "                                                       'price', 'dirt', 'cheap',\n",
      "                                                       'one', 'person', 'ai',\n",
      "                                                       'field', 'said', 'ai',\n",
      "                                                       'replacing', 'artist',\n",
      "                                                       'mere', ...],\n",
      "                                                      [' ', 'opinion',\n",
      "                                                       'important', 'point',\n",
      "                                                       'video', 'ai', 'mimic',\n",
      "                                                       'people', 'internet',\n",
      "                                                       'think', 'right',\n",
      "                                                       'likely', 'get', 'liked',\n",
      "                                                       'answer', 'never',\n",
      "                                                       'best', 'answer'], ...])),\n",
      "                ('classifier', SVC())]) with train dataset is: 0.506\n",
      "Accuracy of Pipeline(steps=[('text_processor', TextProcessor()),\n",
      "                ('w2v_vectorizer',\n",
      "                 Word2VecVectorizer(processed_X_test=[[' ', 'actually', 'felt',\n",
      "                                                       'better', 'film',\n",
      "                                                       'cry'],\n",
      "                                                      ['corporation', 'create',\n",
      "                                                       'database', 'like',\n",
      "                                                       'address', 'book',\n",
      "                                                       'scrapping', 'data',\n",
      "                                                       'corporation', 'owns',\n",
      "                                                       'copyright', 'human',\n",
      "                                                       'authorship'],\n",
      "                                                      ['irony', 'terraforming',\n",
      "                                                       'mar', 'wa',\n",
      "                                                       'struggling', 'pirated',\n",
      "                                                       'copy', '...\n",
      "                                                       'thing', 'learning',\n",
      "                                                       'machine', 'made',\n",
      "                                                       'profit', 'made',\n",
      "                                                       'artist', 'made', 'mass',\n",
      "                                                       'consumption', \"'s\",\n",
      "                                                       'price', 'dirt', 'cheap',\n",
      "                                                       'one', 'person', 'ai',\n",
      "                                                       'field', 'said', 'ai',\n",
      "                                                       'replacing', 'artist',\n",
      "                                                       'mere', ...],\n",
      "                                                      [' ', 'opinion',\n",
      "                                                       'important', 'point',\n",
      "                                                       'video', 'ai', 'mimic',\n",
      "                                                       'people', 'internet',\n",
      "                                                       'think', 'right',\n",
      "                                                       'likely', 'get', 'liked',\n",
      "                                                       'answer', 'never',\n",
      "                                                       'best', 'answer'], ...])),\n",
      "                ('classifier', SVC())]) with test dataset is: 0.477\n",
      "The file 'word2vec_model.bin' exists.\n",
      "Accuracy of Pipeline(steps=[('text_processor', TextProcessor()),\n",
      "                ('w2v_vectorizer',\n",
      "                 Word2VecVectorizer(processed_X_test=[[' ', 'actually', 'felt',\n",
      "                                                       'better', 'film',\n",
      "                                                       'cry'],\n",
      "                                                      ['corporation', 'create',\n",
      "                                                       'database', 'like',\n",
      "                                                       'address', 'book',\n",
      "                                                       'scrapping', 'data',\n",
      "                                                       'corporation', 'owns',\n",
      "                                                       'copyright', 'human',\n",
      "                                                       'authorship'],\n",
      "                                                      ['irony', 'terraforming',\n",
      "                                                       'mar', 'wa',\n",
      "                                                       'struggling', 'pirated',\n",
      "                                                       'copy', '...\n",
      "                                                       'machine', 'made',\n",
      "                                                       'profit', 'made',\n",
      "                                                       'artist', 'made', 'mass',\n",
      "                                                       'consumption', \"'s\",\n",
      "                                                       'price', 'dirt', 'cheap',\n",
      "                                                       'one', 'person', 'ai',\n",
      "                                                       'field', 'said', 'ai',\n",
      "                                                       'replacing', 'artist',\n",
      "                                                       'mere', ...],\n",
      "                                                      [' ', 'opinion',\n",
      "                                                       'important', 'point',\n",
      "                                                       'video', 'ai', 'mimic',\n",
      "                                                       'people', 'internet',\n",
      "                                                       'think', 'right',\n",
      "                                                       'likely', 'get', 'liked',\n",
      "                                                       'answer', 'never',\n",
      "                                                       'best', 'answer'], ...])),\n",
      "                ('classifier', GaussianNB())]) with train dataset is: 0.465\n",
      "Accuracy of Pipeline(steps=[('text_processor', TextProcessor()),\n",
      "                ('w2v_vectorizer',\n",
      "                 Word2VecVectorizer(processed_X_test=[[' ', 'actually', 'felt',\n",
      "                                                       'better', 'film',\n",
      "                                                       'cry'],\n",
      "                                                      ['corporation', 'create',\n",
      "                                                       'database', 'like',\n",
      "                                                       'address', 'book',\n",
      "                                                       'scrapping', 'data',\n",
      "                                                       'corporation', 'owns',\n",
      "                                                       'copyright', 'human',\n",
      "                                                       'authorship'],\n",
      "                                                      ['irony', 'terraforming',\n",
      "                                                       'mar', 'wa',\n",
      "                                                       'struggling', 'pirated',\n",
      "                                                       'copy', '...\n",
      "                                                       'machine', 'made',\n",
      "                                                       'profit', 'made',\n",
      "                                                       'artist', 'made', 'mass',\n",
      "                                                       'consumption', \"'s\",\n",
      "                                                       'price', 'dirt', 'cheap',\n",
      "                                                       'one', 'person', 'ai',\n",
      "                                                       'field', 'said', 'ai',\n",
      "                                                       'replacing', 'artist',\n",
      "                                                       'mere', ...],\n",
      "                                                      [' ', 'opinion',\n",
      "                                                       'important', 'point',\n",
      "                                                       'video', 'ai', 'mimic',\n",
      "                                                       'people', 'internet',\n",
      "                                                       'think', 'right',\n",
      "                                                       'likely', 'get', 'liked',\n",
      "                                                       'answer', 'never',\n",
      "                                                       'best', 'answer'], ...])),\n",
      "                ('classifier', GaussianNB())]) with test dataset is: 0.426\n",
      "The file 'word2vec_model.bin' exists.\n"
     ]
    },
    {
     "ename": "ValueError",
     "evalue": "Negative values in data passed to MultinomialNB (input X)",
     "output_type": "error",
     "traceback": [
      "\u001b[1;31m---------------------------------------------------------------------------\u001b[0m",
      "\u001b[1;31mValueError\u001b[0m                                Traceback (most recent call last)",
      "Cell \u001b[1;32mIn[73], line 1\u001b[0m\n\u001b[1;32m----> 1\u001b[0m \u001b[43mevaluate_classifiers\u001b[49m\u001b[43m(\u001b[49m\u001b[43mmodels2\u001b[49m\u001b[43m,\u001b[49m\u001b[43m \u001b[49m\u001b[43mX_train_balanced_list\u001b[49m\u001b[43m,\u001b[49m\u001b[43m \u001b[49m\u001b[43my_train_balanced_list\u001b[49m\u001b[43m,\u001b[49m\u001b[43m \u001b[49m\u001b[43mX_test_list\u001b[49m\u001b[43m,\u001b[49m\u001b[43m \u001b[49m\u001b[43my_test_list\u001b[49m\u001b[43m)\u001b[49m\n",
      "Cell \u001b[1;32mIn[71], line 13\u001b[0m, in \u001b[0;36mevaluate_classifiers\u001b[1;34m(models, X_train, y_train, X_test, y_test)\u001b[0m\n\u001b[0;32m     11\u001b[0m log \u001b[38;5;241m=\u001b[39m pd\u001b[38;5;241m.\u001b[39mDataFrame(columns\u001b[38;5;241m=\u001b[39mlog_cols)\n\u001b[0;32m     12\u001b[0m \u001b[38;5;28;01mfor\u001b[39;00m model \u001b[38;5;129;01min\u001b[39;00m models:\n\u001b[1;32m---> 13\u001b[0m     \u001b[43mmodel\u001b[49m\u001b[38;5;241;43m.\u001b[39;49m\u001b[43mfit\u001b[49m\u001b[43m(\u001b[49m\u001b[43mX_train\u001b[49m\u001b[43m,\u001b[49m\u001b[43m \u001b[49m\u001b[43my_train\u001b[49m\u001b[43m)\u001b[49m\n\u001b[0;32m     15\u001b[0m     y_pred_train \u001b[38;5;241m=\u001b[39m model\u001b[38;5;241m.\u001b[39mpredict(X_train)\n\u001b[0;32m     16\u001b[0m     score_train \u001b[38;5;241m=\u001b[39m accuracy_score(y_train, y_pred_train)\n",
      "File \u001b[1;32mc:\\Users\\HanaS\\anaconda3\\envs\\f21aa\\Lib\\site-packages\\sklearn\\base.py:1351\u001b[0m, in \u001b[0;36m_fit_context.<locals>.decorator.<locals>.wrapper\u001b[1;34m(estimator, *args, **kwargs)\u001b[0m\n\u001b[0;32m   1344\u001b[0m     estimator\u001b[38;5;241m.\u001b[39m_validate_params()\n\u001b[0;32m   1346\u001b[0m \u001b[38;5;28;01mwith\u001b[39;00m config_context(\n\u001b[0;32m   1347\u001b[0m     skip_parameter_validation\u001b[38;5;241m=\u001b[39m(\n\u001b[0;32m   1348\u001b[0m         prefer_skip_nested_validation \u001b[38;5;129;01mor\u001b[39;00m global_skip_validation\n\u001b[0;32m   1349\u001b[0m     )\n\u001b[0;32m   1350\u001b[0m ):\n\u001b[1;32m-> 1351\u001b[0m     \u001b[38;5;28;01mreturn\u001b[39;00m \u001b[43mfit_method\u001b[49m\u001b[43m(\u001b[49m\u001b[43mestimator\u001b[49m\u001b[43m,\u001b[49m\u001b[43m \u001b[49m\u001b[38;5;241;43m*\u001b[39;49m\u001b[43margs\u001b[49m\u001b[43m,\u001b[49m\u001b[43m \u001b[49m\u001b[38;5;241;43m*\u001b[39;49m\u001b[38;5;241;43m*\u001b[39;49m\u001b[43mkwargs\u001b[49m\u001b[43m)\u001b[49m\n",
      "File \u001b[1;32mc:\\Users\\HanaS\\anaconda3\\envs\\f21aa\\Lib\\site-packages\\sklearn\\pipeline.py:475\u001b[0m, in \u001b[0;36mPipeline.fit\u001b[1;34m(self, X, y, **params)\u001b[0m\n\u001b[0;32m    473\u001b[0m     \u001b[38;5;28;01mif\u001b[39;00m \u001b[38;5;28mself\u001b[39m\u001b[38;5;241m.\u001b[39m_final_estimator \u001b[38;5;241m!=\u001b[39m \u001b[38;5;124m\"\u001b[39m\u001b[38;5;124mpassthrough\u001b[39m\u001b[38;5;124m\"\u001b[39m:\n\u001b[0;32m    474\u001b[0m         last_step_params \u001b[38;5;241m=\u001b[39m routed_params[\u001b[38;5;28mself\u001b[39m\u001b[38;5;241m.\u001b[39msteps[\u001b[38;5;241m-\u001b[39m\u001b[38;5;241m1\u001b[39m][\u001b[38;5;241m0\u001b[39m]]\n\u001b[1;32m--> 475\u001b[0m         \u001b[38;5;28;43mself\u001b[39;49m\u001b[38;5;241;43m.\u001b[39;49m\u001b[43m_final_estimator\u001b[49m\u001b[38;5;241;43m.\u001b[39;49m\u001b[43mfit\u001b[49m\u001b[43m(\u001b[49m\u001b[43mXt\u001b[49m\u001b[43m,\u001b[49m\u001b[43m \u001b[49m\u001b[43my\u001b[49m\u001b[43m,\u001b[49m\u001b[43m \u001b[49m\u001b[38;5;241;43m*\u001b[39;49m\u001b[38;5;241;43m*\u001b[39;49m\u001b[43mlast_step_params\u001b[49m\u001b[43m[\u001b[49m\u001b[38;5;124;43m\"\u001b[39;49m\u001b[38;5;124;43mfit\u001b[39;49m\u001b[38;5;124;43m\"\u001b[39;49m\u001b[43m]\u001b[49m\u001b[43m)\u001b[49m\n\u001b[0;32m    477\u001b[0m \u001b[38;5;28;01mreturn\u001b[39;00m \u001b[38;5;28mself\u001b[39m\n",
      "File \u001b[1;32mc:\\Users\\HanaS\\anaconda3\\envs\\f21aa\\Lib\\site-packages\\sklearn\\base.py:1351\u001b[0m, in \u001b[0;36m_fit_context.<locals>.decorator.<locals>.wrapper\u001b[1;34m(estimator, *args, **kwargs)\u001b[0m\n\u001b[0;32m   1344\u001b[0m     estimator\u001b[38;5;241m.\u001b[39m_validate_params()\n\u001b[0;32m   1346\u001b[0m \u001b[38;5;28;01mwith\u001b[39;00m config_context(\n\u001b[0;32m   1347\u001b[0m     skip_parameter_validation\u001b[38;5;241m=\u001b[39m(\n\u001b[0;32m   1348\u001b[0m         prefer_skip_nested_validation \u001b[38;5;129;01mor\u001b[39;00m global_skip_validation\n\u001b[0;32m   1349\u001b[0m     )\n\u001b[0;32m   1350\u001b[0m ):\n\u001b[1;32m-> 1351\u001b[0m     \u001b[38;5;28;01mreturn\u001b[39;00m \u001b[43mfit_method\u001b[49m\u001b[43m(\u001b[49m\u001b[43mestimator\u001b[49m\u001b[43m,\u001b[49m\u001b[43m \u001b[49m\u001b[38;5;241;43m*\u001b[39;49m\u001b[43margs\u001b[49m\u001b[43m,\u001b[49m\u001b[43m \u001b[49m\u001b[38;5;241;43m*\u001b[39;49m\u001b[38;5;241;43m*\u001b[39;49m\u001b[43mkwargs\u001b[49m\u001b[43m)\u001b[49m\n",
      "File \u001b[1;32mc:\\Users\\HanaS\\anaconda3\\envs\\f21aa\\Lib\\site-packages\\sklearn\\naive_bayes.py:759\u001b[0m, in \u001b[0;36m_BaseDiscreteNB.fit\u001b[1;34m(self, X, y, sample_weight)\u001b[0m\n\u001b[0;32m    757\u001b[0m n_classes \u001b[38;5;241m=\u001b[39m Y\u001b[38;5;241m.\u001b[39mshape[\u001b[38;5;241m1\u001b[39m]\n\u001b[0;32m    758\u001b[0m \u001b[38;5;28mself\u001b[39m\u001b[38;5;241m.\u001b[39m_init_counters(n_classes, n_features)\n\u001b[1;32m--> 759\u001b[0m \u001b[38;5;28;43mself\u001b[39;49m\u001b[38;5;241;43m.\u001b[39;49m\u001b[43m_count\u001b[49m\u001b[43m(\u001b[49m\u001b[43mX\u001b[49m\u001b[43m,\u001b[49m\u001b[43m \u001b[49m\u001b[43mY\u001b[49m\u001b[43m)\u001b[49m\n\u001b[0;32m    760\u001b[0m alpha \u001b[38;5;241m=\u001b[39m \u001b[38;5;28mself\u001b[39m\u001b[38;5;241m.\u001b[39m_check_alpha()\n\u001b[0;32m    761\u001b[0m \u001b[38;5;28mself\u001b[39m\u001b[38;5;241m.\u001b[39m_update_feature_log_prob(alpha)\n",
      "File \u001b[1;32mc:\\Users\\HanaS\\anaconda3\\envs\\f21aa\\Lib\\site-packages\\sklearn\\naive_bayes.py:881\u001b[0m, in \u001b[0;36mMultinomialNB._count\u001b[1;34m(self, X, Y)\u001b[0m\n\u001b[0;32m    879\u001b[0m \u001b[38;5;28;01mdef\u001b[39;00m \u001b[38;5;21m_count\u001b[39m(\u001b[38;5;28mself\u001b[39m, X, Y):\n\u001b[0;32m    880\u001b[0m \u001b[38;5;250m    \u001b[39m\u001b[38;5;124;03m\"\"\"Count and smooth feature occurrences.\"\"\"\u001b[39;00m\n\u001b[1;32m--> 881\u001b[0m     \u001b[43mcheck_non_negative\u001b[49m\u001b[43m(\u001b[49m\u001b[43mX\u001b[49m\u001b[43m,\u001b[49m\u001b[43m \u001b[49m\u001b[38;5;124;43m\"\u001b[39;49m\u001b[38;5;124;43mMultinomialNB (input X)\u001b[39;49m\u001b[38;5;124;43m\"\u001b[39;49m\u001b[43m)\u001b[49m\n\u001b[0;32m    882\u001b[0m     \u001b[38;5;28mself\u001b[39m\u001b[38;5;241m.\u001b[39mfeature_count_ \u001b[38;5;241m+\u001b[39m\u001b[38;5;241m=\u001b[39m safe_sparse_dot(Y\u001b[38;5;241m.\u001b[39mT, X)\n\u001b[0;32m    883\u001b[0m     \u001b[38;5;28mself\u001b[39m\u001b[38;5;241m.\u001b[39mclass_count_ \u001b[38;5;241m+\u001b[39m\u001b[38;5;241m=\u001b[39m Y\u001b[38;5;241m.\u001b[39msum(axis\u001b[38;5;241m=\u001b[39m\u001b[38;5;241m0\u001b[39m)\n",
      "File \u001b[1;32mc:\\Users\\HanaS\\anaconda3\\envs\\f21aa\\Lib\\site-packages\\sklearn\\utils\\validation.py:1572\u001b[0m, in \u001b[0;36mcheck_non_negative\u001b[1;34m(X, whom)\u001b[0m\n\u001b[0;32m   1569\u001b[0m     X_min \u001b[38;5;241m=\u001b[39m xp\u001b[38;5;241m.\u001b[39mmin(X)\n\u001b[0;32m   1571\u001b[0m \u001b[38;5;28;01mif\u001b[39;00m X_min \u001b[38;5;241m<\u001b[39m \u001b[38;5;241m0\u001b[39m:\n\u001b[1;32m-> 1572\u001b[0m     \u001b[38;5;28;01mraise\u001b[39;00m \u001b[38;5;167;01mValueError\u001b[39;00m(\u001b[38;5;124m\"\u001b[39m\u001b[38;5;124mNegative values in data passed to \u001b[39m\u001b[38;5;132;01m%s\u001b[39;00m\u001b[38;5;124m\"\u001b[39m \u001b[38;5;241m%\u001b[39m whom)\n",
      "\u001b[1;31mValueError\u001b[0m: Negative values in data passed to MultinomialNB (input X)"
     ]
    }
   ],
   "source": [
    "evaluate_classifiers(models2, X_train_balanced_list, y_train_balanced_list, X_test_list, y_test_list)"
   ]
  },
  {
   "cell_type": "markdown",
   "metadata": {},
   "source": [
    "### **TF-IDF Vectorizer Models**"
   ]
  },
  {
   "cell_type": "code",
   "execution_count": 76,
   "metadata": {},
   "outputs": [],
   "source": [
    "name_list3 = ['tfidf_vectorizer']\n",
    "step_list3 = [TfidfVectorizer(tokenizer= lemmatize_spacy,min_df=5)]\n",
    "classifier_list3 = [LogisticRegression(), SVC(), MultinomialNB(), SGDClassifier(), KNeighborsClassifier(), DecisionTreeClassifier(), RandomForestClassifier()]\n",
    "models3 = create_pipelines(name_list3, step_list3, classifier_list3)"
   ]
  },
  {
   "cell_type": "code",
   "execution_count": 77,
   "metadata": {},
   "outputs": [
    {
     "name": "stderr",
     "output_type": "stream",
     "text": [
      "c:\\Users\\HanaS\\anaconda3\\envs\\f21aa\\Lib\\site-packages\\sklearn\\feature_extraction\\text.py:525: UserWarning: The parameter 'token_pattern' will not be used since 'tokenizer' is not None'\n",
      "  warnings.warn(\n"
     ]
    },
    {
     "name": "stdout",
     "output_type": "stream",
     "text": [
      "Accuracy of Pipeline(steps=[('tfidf_vectorizer',\n",
      "                 TfidfVectorizer(min_df=5,\n",
      "                                 tokenizer=<function lemmatize_spacy at 0x000001E1258062A0>)),\n",
      "                ('classifier', LogisticRegression())]) with train dataset is: 0.925\n",
      "Accuracy of Pipeline(steps=[('tfidf_vectorizer',\n",
      "                 TfidfVectorizer(min_df=5,\n",
      "                                 tokenizer=<function lemmatize_spacy at 0x000001E1258062A0>)),\n",
      "                ('classifier', LogisticRegression())]) with test dataset is: 0.771\n"
     ]
    },
    {
     "name": "stderr",
     "output_type": "stream",
     "text": [
      "c:\\Users\\HanaS\\anaconda3\\envs\\f21aa\\Lib\\site-packages\\sklearn\\feature_extraction\\text.py:525: UserWarning: The parameter 'token_pattern' will not be used since 'tokenizer' is not None'\n",
      "  warnings.warn(\n"
     ]
    },
    {
     "name": "stdout",
     "output_type": "stream",
     "text": [
      "Accuracy of Pipeline(steps=[('tfidf_vectorizer',\n",
      "                 TfidfVectorizer(min_df=5,\n",
      "                                 tokenizer=<function lemmatize_spacy at 0x000001E1258062A0>)),\n",
      "                ('classifier', SVC())]) with train dataset is: 0.993\n",
      "Accuracy of Pipeline(steps=[('tfidf_vectorizer',\n",
      "                 TfidfVectorizer(min_df=5,\n",
      "                                 tokenizer=<function lemmatize_spacy at 0x000001E1258062A0>)),\n",
      "                ('classifier', SVC())]) with test dataset is: 0.787\n"
     ]
    },
    {
     "name": "stderr",
     "output_type": "stream",
     "text": [
      "c:\\Users\\HanaS\\anaconda3\\envs\\f21aa\\Lib\\site-packages\\sklearn\\feature_extraction\\text.py:525: UserWarning: The parameter 'token_pattern' will not be used since 'tokenizer' is not None'\n",
      "  warnings.warn(\n"
     ]
    },
    {
     "name": "stdout",
     "output_type": "stream",
     "text": [
      "Accuracy of Pipeline(steps=[('tfidf_vectorizer',\n",
      "                 TfidfVectorizer(min_df=5,\n",
      "                                 tokenizer=<function lemmatize_spacy at 0x000001E1258062A0>)),\n",
      "                ('classifier', MultinomialNB())]) with train dataset is: 0.827\n",
      "Accuracy of Pipeline(steps=[('tfidf_vectorizer',\n",
      "                 TfidfVectorizer(min_df=5,\n",
      "                                 tokenizer=<function lemmatize_spacy at 0x000001E1258062A0>)),\n",
      "                ('classifier', MultinomialNB())]) with test dataset is: 0.620\n"
     ]
    },
    {
     "name": "stderr",
     "output_type": "stream",
     "text": [
      "c:\\Users\\HanaS\\anaconda3\\envs\\f21aa\\Lib\\site-packages\\sklearn\\feature_extraction\\text.py:525: UserWarning: The parameter 'token_pattern' will not be used since 'tokenizer' is not None'\n",
      "  warnings.warn(\n"
     ]
    },
    {
     "name": "stdout",
     "output_type": "stream",
     "text": [
      "Accuracy of Pipeline(steps=[('tfidf_vectorizer',\n",
      "                 TfidfVectorizer(min_df=5,\n",
      "                                 tokenizer=<function lemmatize_spacy at 0x000001E1258062A0>)),\n",
      "                ('classifier', SGDClassifier())]) with train dataset is: 0.957\n",
      "Accuracy of Pipeline(steps=[('tfidf_vectorizer',\n",
      "                 TfidfVectorizer(min_df=5,\n",
      "                                 tokenizer=<function lemmatize_spacy at 0x000001E1258062A0>)),\n",
      "                ('classifier', SGDClassifier())]) with test dataset is: 0.738\n"
     ]
    },
    {
     "name": "stderr",
     "output_type": "stream",
     "text": [
      "c:\\Users\\HanaS\\anaconda3\\envs\\f21aa\\Lib\\site-packages\\sklearn\\feature_extraction\\text.py:525: UserWarning: The parameter 'token_pattern' will not be used since 'tokenizer' is not None'\n",
      "  warnings.warn(\n"
     ]
    },
    {
     "name": "stdout",
     "output_type": "stream",
     "text": [
      "Accuracy of Pipeline(steps=[('tfidf_vectorizer',\n",
      "                 TfidfVectorizer(min_df=5,\n",
      "                                 tokenizer=<function lemmatize_spacy at 0x000001E1258062A0>)),\n",
      "                ('classifier', KNeighborsClassifier())]) with train dataset is: 0.465\n",
      "Accuracy of Pipeline(steps=[('tfidf_vectorizer',\n",
      "                 TfidfVectorizer(min_df=5,\n",
      "                                 tokenizer=<function lemmatize_spacy at 0x000001E1258062A0>)),\n",
      "                ('classifier', KNeighborsClassifier())]) with test dataset is: 0.435\n"
     ]
    },
    {
     "name": "stderr",
     "output_type": "stream",
     "text": [
      "c:\\Users\\HanaS\\anaconda3\\envs\\f21aa\\Lib\\site-packages\\sklearn\\feature_extraction\\text.py:525: UserWarning: The parameter 'token_pattern' will not be used since 'tokenizer' is not None'\n",
      "  warnings.warn(\n"
     ]
    },
    {
     "name": "stdout",
     "output_type": "stream",
     "text": [
      "Accuracy of Pipeline(steps=[('tfidf_vectorizer',\n",
      "                 TfidfVectorizer(min_df=5,\n",
      "                                 tokenizer=<function lemmatize_spacy at 0x000001E1258062A0>)),\n",
      "                ('classifier', DecisionTreeClassifier())]) with train dataset is: 1.000\n",
      "Accuracy of Pipeline(steps=[('tfidf_vectorizer',\n",
      "                 TfidfVectorizer(min_df=5,\n",
      "                                 tokenizer=<function lemmatize_spacy at 0x000001E1258062A0>)),\n",
      "                ('classifier', DecisionTreeClassifier())]) with test dataset is: 0.733\n"
     ]
    },
    {
     "name": "stderr",
     "output_type": "stream",
     "text": [
      "c:\\Users\\HanaS\\anaconda3\\envs\\f21aa\\Lib\\site-packages\\sklearn\\feature_extraction\\text.py:525: UserWarning: The parameter 'token_pattern' will not be used since 'tokenizer' is not None'\n",
      "  warnings.warn(\n"
     ]
    },
    {
     "name": "stdout",
     "output_type": "stream",
     "text": [
      "Accuracy of Pipeline(steps=[('tfidf_vectorizer',\n",
      "                 TfidfVectorizer(min_df=5,\n",
      "                                 tokenizer=<function lemmatize_spacy at 0x000001E1258062A0>)),\n",
      "                ('classifier', RandomForestClassifier())]) with train dataset is: 1.000\n",
      "Accuracy of Pipeline(steps=[('tfidf_vectorizer',\n",
      "                 TfidfVectorizer(min_df=5,\n",
      "                                 tokenizer=<function lemmatize_spacy at 0x000001E1258062A0>)),\n",
      "                ('classifier', RandomForestClassifier())]) with test dataset is: 0.806\n"
     ]
    },
    {
     "data": {
      "image/png": "[encoded data removed]",
      "text/plain": [
       "<Figure size 640x480 with 1 Axes>"
      ]
     },
     "metadata": {},
     "output_type": "display_data"
    }
   ],
   "source": [
    "evaluate_classifiers(models3, X_train_balanced_list, y_train_balanced_list, X_test_list, y_test_list)"
   ]
  },
  {
   "cell_type": "code",
   "execution_count": null,
   "metadata": {},
   "outputs": [],
   "source": [
    "# name_list4 = ['tfidf_vectorizer']\n",
    "# step_list4 = [TfidfVectorizer(tokenizer= lemmatize_spacy,min_df=5)]\n",
    "# classifier_list3 = [LogisticRegression(), SVC(), MultinomialNB(), SGDClassifier(), KNeighborsClassifier(), DecisionTreeClassifier(), RandomForestClassifier()]\n",
    "# models3 = create_pipelines(name_list3, step_list3, classifier_list3)"
   ]
  },
  {
   "cell_type": "markdown",
   "metadata": {},
   "source": [
    "## Hyperparameter tuning"
   ]
  },
  {
   "cell_type": "code",
   "execution_count": 43,
   "metadata": {},
   "outputs": [],
   "source": [
    "name_list4 = ['tfidf_vectorizer']\n",
    "step_list4 = [TfidfVectorizer(tokenizer= lemmatize_spacy,min_df=5, max_df=0.75, ngram_range=(2, 2))]\n",
    "classifier_list4 = [LogisticRegression(C=0.01), LogisticRegression(C=0.1),LogisticRegression(C=0.001)]\n",
    "models4 = create_pipelines(name_list4, step_list4, classifier_list4)"
   ]
  },
  {
   "cell_type": "code",
   "execution_count": 41,
   "metadata": {},
   "outputs": [
    {
     "name": "stdout",
     "output_type": "stream",
     "text": [
      "Accuracy of Pipeline(steps=[('tfidf_vectorizer',\n",
      "                 TfidfVectorizer(max_df=0.75, min_df=5, ngram_range=(2, 2),\n",
      "                                 tokenizer=<function lemmatize_spacy at 0x000002B1C1F2FD80>)),\n",
      "                ('classifier', LogisticRegression(C=0.01))]) with train dataset is: 0.729\n",
      "Accuracy of Pipeline(steps=[('tfidf_vectorizer',\n",
      "                 TfidfVectorizer(max_df=0.75, min_df=5, ngram_range=(2, 2),\n",
      "                                 tokenizer=<function lemmatize_spacy at 0x000002B1C1F2FD80>)),\n",
      "                ('classifier', LogisticRegression(C=0.01))]) with test dataset is: 0.621\n",
      "Accuracy of Pipeline(steps=[('tfidf_vectorizer',\n",
      "                 TfidfVectorizer(max_df=0.75, min_df=5, ngram_range=(2, 2),\n",
      "                                 tokenizer=<function lemmatize_spacy at 0x000002B1C1F2FD80>)),\n",
      "                ('classifier', LogisticRegression(C=0.1))]) with train dataset is: 0.771\n",
      "Accuracy of Pipeline(steps=[('tfidf_vectorizer',\n",
      "                 TfidfVectorizer(max_df=0.75, min_df=5, ngram_range=(2, 2),\n",
      "                                 tokenizer=<function lemmatize_spacy at 0x000002B1C1F2FD80>)),\n",
      "                ('classifier', LogisticRegression(C=0.1))]) with test dataset is: 0.633\n",
      "Accuracy of Pipeline(steps=[('tfidf_vectorizer',\n",
      "                 TfidfVectorizer(max_df=0.75, min_df=5, ngram_range=(2, 2),\n",
      "                                 tokenizer=<function lemmatize_spacy at 0x000002B1C1F2FD80>)),\n",
      "                ('classifier', LogisticRegression(C=0.001))]) with train dataset is: 0.723\n",
      "Accuracy of Pipeline(steps=[('tfidf_vectorizer',\n",
      "                 TfidfVectorizer(max_df=0.75, min_df=5, ngram_range=(2, 2),\n",
      "                                 tokenizer=<function lemmatize_spacy at 0x000002B1C1F2FD80>)),\n",
      "                ('classifier', LogisticRegression(C=0.001))]) with test dataset is: 0.620\n"
     ]
    },
    {
     "data": {
      "image/png": "[encoded data removed]",
      "text/plain": [
       "<Figure size 640x480 with 1 Axes>"
      ]
     },
     "metadata": {},
     "output_type": "display_data"
    }
   ],
   "source": [
    "evaluate_classifiers(models4, X_train_balanced_list, y_train_balanced_list, X_test_list, y_test_list)"
   ]
  },
  {
   "cell_type": "code",
   "execution_count": 44,
   "metadata": {},
   "outputs": [],
   "source": [
    "name_list5 = ['tfidf_vectorizer']\n",
    "step_list5 = [TfidfVectorizer(tokenizer= lemmatize_spacy,min_df=5, max_df=0.75, ngram_range=(1, 1))]\n",
    "classifier_list5 = [LogisticRegression(C=0.01), LogisticRegression(C=0.1),LogisticRegression(C=0.001)]\n",
    "models5 = create_pipelines(name_list5, step_list5, classifier_list5)"
   ]
  },
  {
   "cell_type": "code",
   "execution_count": 45,
   "metadata": {},
   "outputs": [
    {
     "name": "stdout",
     "output_type": "stream",
     "text": [
      "Accuracy of Pipeline(steps=[('tfidf_vectorizer',\n",
      "                 TfidfVectorizer(max_df=0.75, min_df=5,\n",
      "                                 tokenizer=<function lemmatize_spacy at 0x000002B1C1F2FD80>)),\n",
      "                ('classifier', LogisticRegression(C=0.01))]) with train dataset is: 0.741\n",
      "Accuracy of Pipeline(steps=[('tfidf_vectorizer',\n",
      "                 TfidfVectorizer(max_df=0.75, min_df=5,\n",
      "                                 tokenizer=<function lemmatize_spacy at 0x000002B1C1F2FD80>)),\n",
      "                ('classifier', LogisticRegression(C=0.01))]) with test dataset is: 0.750\n",
      "Accuracy of Pipeline(steps=[('tfidf_vectorizer',\n",
      "                 TfidfVectorizer(max_df=0.75, min_df=5,\n",
      "                                 tokenizer=<function lemmatize_spacy at 0x000002B1C1F2FD80>)),\n",
      "                ('classifier', LogisticRegression(C=0.1))]) with train dataset is: 0.813\n",
      "Accuracy of Pipeline(steps=[('tfidf_vectorizer',\n",
      "                 TfidfVectorizer(max_df=0.75, min_df=5,\n",
      "                                 tokenizer=<function lemmatize_spacy at 0x000002B1C1F2FD80>)),\n",
      "                ('classifier', LogisticRegression(C=0.1))]) with test dataset is: 0.761\n",
      "Accuracy of Pipeline(steps=[('tfidf_vectorizer',\n",
      "                 TfidfVectorizer(max_df=0.75, min_df=5,\n",
      "                                 tokenizer=<function lemmatize_spacy at 0x000002B1C1F2FD80>)),\n",
      "                ('classifier', LogisticRegression(C=0.001))]) with train dataset is: 0.724\n",
      "Accuracy of Pipeline(steps=[('tfidf_vectorizer',\n",
      "                 TfidfVectorizer(max_df=0.75, min_df=5,\n",
      "                                 tokenizer=<function lemmatize_spacy at 0x000002B1C1F2FD80>)),\n",
      "                ('classifier', LogisticRegression(C=0.001))]) with test dataset is: 0.748\n"
     ]
    },
    {
     "data": {
      "image/png": "[encoded data removed]",
      "text/plain": [
       "<Figure size 640x480 with 1 Axes>"
      ]
     },
     "metadata": {},
     "output_type": "display_data"
    }
   ],
   "source": [
    "evaluate_classifiers(models5, X_train_balanced_list, y_train_balanced_list, X_test_list, y_test_list)"
   ]
  },
  {
   "cell_type": "code",
   "execution_count": 46,
   "metadata": {},
   "outputs": [
    {
     "data": {
      "text/plain": [
       "<Axes: xlabel='relevance', ylabel='count'>"
      ]
     },
     "execution_count": 46,
     "metadata": {},
     "output_type": "execute_result"
    },
    {
     "data": {
      "image/png": "[encoded data removed]",
      "text/plain": [
       "<Figure size 1200x600 with 1 Axes>"
      ]
     },
     "metadata": {},
     "output_type": "display_data"
    }
   ],
   "source": [
    "plt.figure(figsize=(12,6))\n",
    "custom_palette = ['#33FF57', '#FF5733']\n",
    "sns.countplot(x='relevance', data=test, palette=custom_palette)"
   ]
  },
  {
   "cell_type": "code",
   "execution_count": 59,
   "metadata": {},
   "outputs": [
    {
     "data": {
      "text/plain": [
       "<Axes: xlabel='polarity', ylabel='count'>"
      ]
     },
     "execution_count": 59,
     "metadata": {},
     "output_type": "execute_result"
    },
    {
     "data": {
      "image/png": "[encoded data removed]",
      "text/plain": [
       "<Figure size 1200x600 with 1 Axes>"
      ]
     },
     "metadata": {},
     "output_type": "display_data"
    }
   ],
   "source": [
    "plt.figure(figsize=(12,6))\n",
    "custom_palette = ['#33FF57', '#FF5733', '#3366FF']\n",
    "sns.countplot(x='polarity', data=test, palette=custom_palette)"
   ]
  },
  {
   "cell_type": "code",
   "execution_count": 48,
   "metadata": {},
   "outputs": [],
   "source": [
    "best_model = Pipeline([('tfidf_vectorizer', TfidfVectorizer(max_df=0.75, min_df=5,tokenizer=lemmatize_spacy, ngram_range=(1, 1))), ('classifier', LogisticRegression(C=0.1))])"
   ]
  },
  {
   "cell_type": "code",
   "execution_count": 50,
   "metadata": {},
   "outputs": [
    {
     "name": "stdout",
     "output_type": "stream",
     "text": [
      "Accuracy score for the best model:  0.7534965034965035\n"
     ]
    }
   ],
   "source": [
    "best_model.fit(X_train, y_train)\n",
    "y_pred = best_model.predict(X_test_list)"
   ]
  },
  {
   "cell_type": "code",
   "execution_count": 51,
   "metadata": {},
   "outputs": [
    {
     "name": "stdout",
     "output_type": "stream",
     "text": [
      "Accuracy score for the best model:  75.34965034965036\n"
     ]
    }
   ],
   "source": [
    "print(\"Accuracy score for the best model: \", accuracy_score(y_test_list, y_pred)*100)"
   ]
  },
  {
   "cell_type": "code",
   "execution_count": 57,
   "metadata": {},
   "outputs": [],
   "source": [
    "pred_df = pd.concat([X_test, pd.DataFrame(y_pred, columns=[\"polarity\"])], axis=1, )"
   ]
  },
  {
   "cell_type": "code",
   "execution_count": 58,
   "metadata": {},
   "outputs": [
    {
     "data": {
      "text/html": [
       "<div>\n",
       "<style scoped>\n",
       "    .dataframe tbody tr th:only-of-type {\n",
       "        vertical-align: middle;\n",
       "    }\n",
       "\n",
       "    .dataframe tbody tr th {\n",
       "        vertical-align: top;\n",
       "    }\n",
       "\n",
       "    .dataframe thead th {\n",
       "        text-align: right;\n",
       "    }\n",
       "</style>\n",
       "<table border=\"1\" class=\"dataframe\">\n",
       "  <thead>\n",
       "    <tr style=\"text-align: right;\">\n",
       "      <th></th>\n",
       "      <th>text</th>\n",
       "      <th>polarity</th>\n",
       "    </tr>\n",
       "  </thead>\n",
       "  <tbody>\n",
       "    <tr>\n",
       "      <th>0</th>\n",
       "      <td>👏 👏 that actually felt better than most of fil...</td>\n",
       "      <td>0</td>\n",
       "    </tr>\n",
       "    <tr>\n",
       "      <th>1</th>\n",
       "      <td>A corporation can create a database like an ad...</td>\n",
       "      <td>0</td>\n",
       "    </tr>\n",
       "    <tr>\n",
       "      <th>2</th>\n",
       "      <td>The irony is that Terraforming Mars was strugg...</td>\n",
       "      <td>0</td>\n",
       "    </tr>\n",
       "    <tr>\n",
       "      <th>3</th>\n",
       "      <td>except whom will the pizza shop sell their imp...</td>\n",
       "      <td>0</td>\n",
       "    </tr>\n",
       "    <tr>\n",
       "      <th>4</th>\n",
       "      <td>I love &lt;a href=\"https://www.youtube.com/watch?...</td>\n",
       "      <td>0</td>\n",
       "    </tr>\n",
       "    <tr>\n",
       "      <th>...</th>\n",
       "      <td>...</td>\n",
       "      <td>...</td>\n",
       "    </tr>\n",
       "    <tr>\n",
       "      <th>2283</th>\n",
       "      <td>My guess is that AI music will be very popular...</td>\n",
       "      <td>-1</td>\n",
       "    </tr>\n",
       "    <tr>\n",
       "      <th>2284</th>\n",
       "      <td>&lt;b&gt;*Lightning McQueen has entered the chat*&lt;/b&gt;</td>\n",
       "      <td>0</td>\n",
       "    </tr>\n",
       "    <tr>\n",
       "      <th>2285</th>\n",
       "      <td>Oof you know they&amp;#39;ve been in a lot of acci...</td>\n",
       "      <td>0</td>\n",
       "    </tr>\n",
       "    <tr>\n",
       "      <th>2286</th>\n",
       "      <td>Making something woke is like the Midas touch,...</td>\n",
       "      <td>0</td>\n",
       "    </tr>\n",
       "    <tr>\n",
       "      <th>2287</th>\n",
       "      <td>If an artist is asking for their images to not...</td>\n",
       "      <td>-1</td>\n",
       "    </tr>\n",
       "  </tbody>\n",
       "</table>\n",
       "<p>2288 rows × 2 columns</p>\n",
       "</div>"
      ],
      "text/plain": [
       "                                                   text  polarity\n",
       "0     👏 👏 that actually felt better than most of fil...         0\n",
       "1     A corporation can create a database like an ad...         0\n",
       "2     The irony is that Terraforming Mars was strugg...         0\n",
       "3     except whom will the pizza shop sell their imp...         0\n",
       "4     I love <a href=\"https://www.youtube.com/watch?...         0\n",
       "...                                                 ...       ...\n",
       "2283  My guess is that AI music will be very popular...        -1\n",
       "2284    <b>*Lightning McQueen has entered the chat*</b>         0\n",
       "2285  Oof you know they&#39;ve been in a lot of acci...         0\n",
       "2286  Making something woke is like the Midas touch,...         0\n",
       "2287  If an artist is asking for their images to not...        -1\n",
       "\n",
       "[2288 rows x 2 columns]"
      ]
     },
     "execution_count": 58,
     "metadata": {},
     "output_type": "execute_result"
    }
   ],
   "source": [
    "pred_df"
   ]
  }
 ],
 "metadata": {
  "kernelspec": {
   "display_name": "F20AA",
   "language": "python",
   "name": "python3"
  },
  "language_info": {
   "codemirror_mode": {
    "name": "ipython",
    "version": 3
   },
   "file_extension": ".py",
   "mimetype": "text/x-python",
   "name": "python",
   "nbconvert_exporter": "python",
   "pygments_lexer": "ipython3",
   "version": "3.12.1"
  }
 },
 "nbformat": 4,
 "nbformat_minor": 2
}
